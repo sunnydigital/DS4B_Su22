{
 "cells": [
  {
   "cell_type": "code",
   "execution_count": 7,
   "id": "292b757c",
   "metadata": {},
   "outputs": [],
   "source": [
    "import pandas as pd\n",
    "import numpy as np\n",
    "import datetime as dt\n",
    "import matplotlib.pyplot as plt \n",
    "from sklearn.linear_model import LinearRegression\n",
    "from scipy import stats\n",
    "from sklearn.decomposition import PCA\n",
    "from sklearn.metrics import mean_squared_error, r2_score\n",
    "from sklearn.ensemble import RandomForestRegressor"
   ]
  },
  {
   "cell_type": "code",
   "execution_count": 195,
   "id": "b886533a",
   "metadata": {},
   "outputs": [
    {
     "data": {
      "text/html": [
       "<div>\n",
       "<style scoped>\n",
       "    .dataframe tbody tr th:only-of-type {\n",
       "        vertical-align: middle;\n",
       "    }\n",
       "\n",
       "    .dataframe tbody tr th {\n",
       "        vertical-align: top;\n",
       "    }\n",
       "\n",
       "    .dataframe thead th {\n",
       "        text-align: right;\n",
       "    }\n",
       "</style>\n",
       "<table border=\"1\" class=\"dataframe\">\n",
       "  <thead>\n",
       "    <tr style=\"text-align: right;\">\n",
       "      <th></th>\n",
       "      <th>timestamp</th>\n",
       "      <th>cnt</th>\n",
       "      <th>t1</th>\n",
       "      <th>t2</th>\n",
       "      <th>hum</th>\n",
       "      <th>wind_speed</th>\n",
       "      <th>weather_code</th>\n",
       "      <th>is_holiday</th>\n",
       "      <th>is_weekend</th>\n",
       "      <th>season</th>\n",
       "    </tr>\n",
       "  </thead>\n",
       "  <tbody>\n",
       "    <tr>\n",
       "      <th>0</th>\n",
       "      <td>2015-01-04 00:00:00</td>\n",
       "      <td>182</td>\n",
       "      <td>3.0</td>\n",
       "      <td>2.0</td>\n",
       "      <td>93.0</td>\n",
       "      <td>6.0</td>\n",
       "      <td>3.0</td>\n",
       "      <td>0.0</td>\n",
       "      <td>1.0</td>\n",
       "      <td>3.0</td>\n",
       "    </tr>\n",
       "    <tr>\n",
       "      <th>1</th>\n",
       "      <td>2015-01-04 01:00:00</td>\n",
       "      <td>138</td>\n",
       "      <td>3.0</td>\n",
       "      <td>2.5</td>\n",
       "      <td>93.0</td>\n",
       "      <td>5.0</td>\n",
       "      <td>1.0</td>\n",
       "      <td>0.0</td>\n",
       "      <td>1.0</td>\n",
       "      <td>3.0</td>\n",
       "    </tr>\n",
       "    <tr>\n",
       "      <th>2</th>\n",
       "      <td>2015-01-04 02:00:00</td>\n",
       "      <td>134</td>\n",
       "      <td>2.5</td>\n",
       "      <td>2.5</td>\n",
       "      <td>96.5</td>\n",
       "      <td>0.0</td>\n",
       "      <td>1.0</td>\n",
       "      <td>0.0</td>\n",
       "      <td>1.0</td>\n",
       "      <td>3.0</td>\n",
       "    </tr>\n",
       "    <tr>\n",
       "      <th>3</th>\n",
       "      <td>2015-01-04 03:00:00</td>\n",
       "      <td>72</td>\n",
       "      <td>2.0</td>\n",
       "      <td>2.0</td>\n",
       "      <td>100.0</td>\n",
       "      <td>0.0</td>\n",
       "      <td>1.0</td>\n",
       "      <td>0.0</td>\n",
       "      <td>1.0</td>\n",
       "      <td>3.0</td>\n",
       "    </tr>\n",
       "    <tr>\n",
       "      <th>4</th>\n",
       "      <td>2015-01-04 04:00:00</td>\n",
       "      <td>47</td>\n",
       "      <td>2.0</td>\n",
       "      <td>0.0</td>\n",
       "      <td>93.0</td>\n",
       "      <td>6.5</td>\n",
       "      <td>1.0</td>\n",
       "      <td>0.0</td>\n",
       "      <td>1.0</td>\n",
       "      <td>3.0</td>\n",
       "    </tr>\n",
       "    <tr>\n",
       "      <th>...</th>\n",
       "      <td>...</td>\n",
       "      <td>...</td>\n",
       "      <td>...</td>\n",
       "      <td>...</td>\n",
       "      <td>...</td>\n",
       "      <td>...</td>\n",
       "      <td>...</td>\n",
       "      <td>...</td>\n",
       "      <td>...</td>\n",
       "      <td>...</td>\n",
       "    </tr>\n",
       "    <tr>\n",
       "      <th>17409</th>\n",
       "      <td>2017-01-03 19:00:00</td>\n",
       "      <td>1042</td>\n",
       "      <td>5.0</td>\n",
       "      <td>1.0</td>\n",
       "      <td>81.0</td>\n",
       "      <td>19.0</td>\n",
       "      <td>3.0</td>\n",
       "      <td>0.0</td>\n",
       "      <td>0.0</td>\n",
       "      <td>3.0</td>\n",
       "    </tr>\n",
       "    <tr>\n",
       "      <th>17410</th>\n",
       "      <td>2017-01-03 20:00:00</td>\n",
       "      <td>541</td>\n",
       "      <td>5.0</td>\n",
       "      <td>1.0</td>\n",
       "      <td>81.0</td>\n",
       "      <td>21.0</td>\n",
       "      <td>4.0</td>\n",
       "      <td>0.0</td>\n",
       "      <td>0.0</td>\n",
       "      <td>3.0</td>\n",
       "    </tr>\n",
       "    <tr>\n",
       "      <th>17411</th>\n",
       "      <td>2017-01-03 21:00:00</td>\n",
       "      <td>337</td>\n",
       "      <td>5.5</td>\n",
       "      <td>1.5</td>\n",
       "      <td>78.5</td>\n",
       "      <td>24.0</td>\n",
       "      <td>4.0</td>\n",
       "      <td>0.0</td>\n",
       "      <td>0.0</td>\n",
       "      <td>3.0</td>\n",
       "    </tr>\n",
       "    <tr>\n",
       "      <th>17412</th>\n",
       "      <td>2017-01-03 22:00:00</td>\n",
       "      <td>224</td>\n",
       "      <td>5.5</td>\n",
       "      <td>1.5</td>\n",
       "      <td>76.0</td>\n",
       "      <td>23.0</td>\n",
       "      <td>4.0</td>\n",
       "      <td>0.0</td>\n",
       "      <td>0.0</td>\n",
       "      <td>3.0</td>\n",
       "    </tr>\n",
       "    <tr>\n",
       "      <th>17413</th>\n",
       "      <td>2017-01-03 23:00:00</td>\n",
       "      <td>139</td>\n",
       "      <td>5.0</td>\n",
       "      <td>1.0</td>\n",
       "      <td>76.0</td>\n",
       "      <td>22.0</td>\n",
       "      <td>2.0</td>\n",
       "      <td>0.0</td>\n",
       "      <td>0.0</td>\n",
       "      <td>3.0</td>\n",
       "    </tr>\n",
       "  </tbody>\n",
       "</table>\n",
       "<p>17414 rows × 10 columns</p>\n",
       "</div>"
      ],
      "text/plain": [
       "                 timestamp   cnt   t1   t2    hum  wind_speed  weather_code  \\\n",
       "0      2015-01-04 00:00:00   182  3.0  2.0   93.0         6.0           3.0   \n",
       "1      2015-01-04 01:00:00   138  3.0  2.5   93.0         5.0           1.0   \n",
       "2      2015-01-04 02:00:00   134  2.5  2.5   96.5         0.0           1.0   \n",
       "3      2015-01-04 03:00:00    72  2.0  2.0  100.0         0.0           1.0   \n",
       "4      2015-01-04 04:00:00    47  2.0  0.0   93.0         6.5           1.0   \n",
       "...                    ...   ...  ...  ...    ...         ...           ...   \n",
       "17409  2017-01-03 19:00:00  1042  5.0  1.0   81.0        19.0           3.0   \n",
       "17410  2017-01-03 20:00:00   541  5.0  1.0   81.0        21.0           4.0   \n",
       "17411  2017-01-03 21:00:00   337  5.5  1.5   78.5        24.0           4.0   \n",
       "17412  2017-01-03 22:00:00   224  5.5  1.5   76.0        23.0           4.0   \n",
       "17413  2017-01-03 23:00:00   139  5.0  1.0   76.0        22.0           2.0   \n",
       "\n",
       "       is_holiday  is_weekend  season  \n",
       "0             0.0         1.0     3.0  \n",
       "1             0.0         1.0     3.0  \n",
       "2             0.0         1.0     3.0  \n",
       "3             0.0         1.0     3.0  \n",
       "4             0.0         1.0     3.0  \n",
       "...           ...         ...     ...  \n",
       "17409         0.0         0.0     3.0  \n",
       "17410         0.0         0.0     3.0  \n",
       "17411         0.0         0.0     3.0  \n",
       "17412         0.0         0.0     3.0  \n",
       "17413         0.0         0.0     3.0  \n",
       "\n",
       "[17414 rows x 10 columns]"
      ]
     },
     "execution_count": 195,
     "metadata": {},
     "output_type": "execute_result"
    }
   ],
   "source": [
    "df = pd.read_csv(\"bike_sharing_dataset.csv\")\n",
    "df"
   ]
  },
  {
   "cell_type": "code",
   "execution_count": 231,
   "id": "bd80ace0",
   "metadata": {},
   "outputs": [
    {
     "data": {
      "text/html": [
       "<div>\n",
       "<style scoped>\n",
       "    .dataframe tbody tr th:only-of-type {\n",
       "        vertical-align: middle;\n",
       "    }\n",
       "\n",
       "    .dataframe tbody tr th {\n",
       "        vertical-align: top;\n",
       "    }\n",
       "\n",
       "    .dataframe thead th {\n",
       "        text-align: right;\n",
       "    }\n",
       "</style>\n",
       "<table border=\"1\" class=\"dataframe\">\n",
       "  <thead>\n",
       "    <tr style=\"text-align: right;\">\n",
       "      <th></th>\n",
       "      <th>timestamp</th>\n",
       "      <th>cnt</th>\n",
       "      <th>t1</th>\n",
       "      <th>t2</th>\n",
       "      <th>hum</th>\n",
       "      <th>wind_speed</th>\n",
       "      <th>weather_code</th>\n",
       "      <th>is_holiday</th>\n",
       "      <th>is_weekend</th>\n",
       "      <th>season_0.0</th>\n",
       "      <th>season_1.0</th>\n",
       "      <th>season_2.0</th>\n",
       "      <th>season_3.0</th>\n",
       "    </tr>\n",
       "  </thead>\n",
       "  <tbody>\n",
       "    <tr>\n",
       "      <th>0</th>\n",
       "      <td>2015-01-04 00:00:00</td>\n",
       "      <td>182</td>\n",
       "      <td>3.0</td>\n",
       "      <td>2.0</td>\n",
       "      <td>93.0</td>\n",
       "      <td>6.0</td>\n",
       "      <td>3.0</td>\n",
       "      <td>0.0</td>\n",
       "      <td>1.0</td>\n",
       "      <td>0</td>\n",
       "      <td>0</td>\n",
       "      <td>0</td>\n",
       "      <td>1</td>\n",
       "    </tr>\n",
       "    <tr>\n",
       "      <th>1</th>\n",
       "      <td>2015-01-04 01:00:00</td>\n",
       "      <td>138</td>\n",
       "      <td>3.0</td>\n",
       "      <td>2.5</td>\n",
       "      <td>93.0</td>\n",
       "      <td>5.0</td>\n",
       "      <td>1.0</td>\n",
       "      <td>0.0</td>\n",
       "      <td>1.0</td>\n",
       "      <td>0</td>\n",
       "      <td>0</td>\n",
       "      <td>0</td>\n",
       "      <td>1</td>\n",
       "    </tr>\n",
       "    <tr>\n",
       "      <th>2</th>\n",
       "      <td>2015-01-04 02:00:00</td>\n",
       "      <td>134</td>\n",
       "      <td>2.5</td>\n",
       "      <td>2.5</td>\n",
       "      <td>96.5</td>\n",
       "      <td>0.0</td>\n",
       "      <td>1.0</td>\n",
       "      <td>0.0</td>\n",
       "      <td>1.0</td>\n",
       "      <td>0</td>\n",
       "      <td>0</td>\n",
       "      <td>0</td>\n",
       "      <td>1</td>\n",
       "    </tr>\n",
       "    <tr>\n",
       "      <th>3</th>\n",
       "      <td>2015-01-04 03:00:00</td>\n",
       "      <td>72</td>\n",
       "      <td>2.0</td>\n",
       "      <td>2.0</td>\n",
       "      <td>100.0</td>\n",
       "      <td>0.0</td>\n",
       "      <td>1.0</td>\n",
       "      <td>0.0</td>\n",
       "      <td>1.0</td>\n",
       "      <td>0</td>\n",
       "      <td>0</td>\n",
       "      <td>0</td>\n",
       "      <td>1</td>\n",
       "    </tr>\n",
       "    <tr>\n",
       "      <th>4</th>\n",
       "      <td>2015-01-04 04:00:00</td>\n",
       "      <td>47</td>\n",
       "      <td>2.0</td>\n",
       "      <td>0.0</td>\n",
       "      <td>93.0</td>\n",
       "      <td>6.5</td>\n",
       "      <td>1.0</td>\n",
       "      <td>0.0</td>\n",
       "      <td>1.0</td>\n",
       "      <td>0</td>\n",
       "      <td>0</td>\n",
       "      <td>0</td>\n",
       "      <td>1</td>\n",
       "    </tr>\n",
       "    <tr>\n",
       "      <th>...</th>\n",
       "      <td>...</td>\n",
       "      <td>...</td>\n",
       "      <td>...</td>\n",
       "      <td>...</td>\n",
       "      <td>...</td>\n",
       "      <td>...</td>\n",
       "      <td>...</td>\n",
       "      <td>...</td>\n",
       "      <td>...</td>\n",
       "      <td>...</td>\n",
       "      <td>...</td>\n",
       "      <td>...</td>\n",
       "      <td>...</td>\n",
       "    </tr>\n",
       "    <tr>\n",
       "      <th>17409</th>\n",
       "      <td>2017-01-03 19:00:00</td>\n",
       "      <td>1042</td>\n",
       "      <td>5.0</td>\n",
       "      <td>1.0</td>\n",
       "      <td>81.0</td>\n",
       "      <td>19.0</td>\n",
       "      <td>3.0</td>\n",
       "      <td>0.0</td>\n",
       "      <td>0.0</td>\n",
       "      <td>0</td>\n",
       "      <td>0</td>\n",
       "      <td>0</td>\n",
       "      <td>1</td>\n",
       "    </tr>\n",
       "    <tr>\n",
       "      <th>17410</th>\n",
       "      <td>2017-01-03 20:00:00</td>\n",
       "      <td>541</td>\n",
       "      <td>5.0</td>\n",
       "      <td>1.0</td>\n",
       "      <td>81.0</td>\n",
       "      <td>21.0</td>\n",
       "      <td>4.0</td>\n",
       "      <td>0.0</td>\n",
       "      <td>0.0</td>\n",
       "      <td>0</td>\n",
       "      <td>0</td>\n",
       "      <td>0</td>\n",
       "      <td>1</td>\n",
       "    </tr>\n",
       "    <tr>\n",
       "      <th>17411</th>\n",
       "      <td>2017-01-03 21:00:00</td>\n",
       "      <td>337</td>\n",
       "      <td>5.5</td>\n",
       "      <td>1.5</td>\n",
       "      <td>78.5</td>\n",
       "      <td>24.0</td>\n",
       "      <td>4.0</td>\n",
       "      <td>0.0</td>\n",
       "      <td>0.0</td>\n",
       "      <td>0</td>\n",
       "      <td>0</td>\n",
       "      <td>0</td>\n",
       "      <td>1</td>\n",
       "    </tr>\n",
       "    <tr>\n",
       "      <th>17412</th>\n",
       "      <td>2017-01-03 22:00:00</td>\n",
       "      <td>224</td>\n",
       "      <td>5.5</td>\n",
       "      <td>1.5</td>\n",
       "      <td>76.0</td>\n",
       "      <td>23.0</td>\n",
       "      <td>4.0</td>\n",
       "      <td>0.0</td>\n",
       "      <td>0.0</td>\n",
       "      <td>0</td>\n",
       "      <td>0</td>\n",
       "      <td>0</td>\n",
       "      <td>1</td>\n",
       "    </tr>\n",
       "    <tr>\n",
       "      <th>17413</th>\n",
       "      <td>2017-01-03 23:00:00</td>\n",
       "      <td>139</td>\n",
       "      <td>5.0</td>\n",
       "      <td>1.0</td>\n",
       "      <td>76.0</td>\n",
       "      <td>22.0</td>\n",
       "      <td>2.0</td>\n",
       "      <td>0.0</td>\n",
       "      <td>0.0</td>\n",
       "      <td>0</td>\n",
       "      <td>0</td>\n",
       "      <td>0</td>\n",
       "      <td>1</td>\n",
       "    </tr>\n",
       "  </tbody>\n",
       "</table>\n",
       "<p>17414 rows × 13 columns</p>\n",
       "</div>"
      ],
      "text/plain": [
       "                 timestamp   cnt   t1   t2    hum  wind_speed  weather_code  \\\n",
       "0      2015-01-04 00:00:00   182  3.0  2.0   93.0         6.0           3.0   \n",
       "1      2015-01-04 01:00:00   138  3.0  2.5   93.0         5.0           1.0   \n",
       "2      2015-01-04 02:00:00   134  2.5  2.5   96.5         0.0           1.0   \n",
       "3      2015-01-04 03:00:00    72  2.0  2.0  100.0         0.0           1.0   \n",
       "4      2015-01-04 04:00:00    47  2.0  0.0   93.0         6.5           1.0   \n",
       "...                    ...   ...  ...  ...    ...         ...           ...   \n",
       "17409  2017-01-03 19:00:00  1042  5.0  1.0   81.0        19.0           3.0   \n",
       "17410  2017-01-03 20:00:00   541  5.0  1.0   81.0        21.0           4.0   \n",
       "17411  2017-01-03 21:00:00   337  5.5  1.5   78.5        24.0           4.0   \n",
       "17412  2017-01-03 22:00:00   224  5.5  1.5   76.0        23.0           4.0   \n",
       "17413  2017-01-03 23:00:00   139  5.0  1.0   76.0        22.0           2.0   \n",
       "\n",
       "       is_holiday  is_weekend  season_0.0  season_1.0  season_2.0  season_3.0  \n",
       "0             0.0         1.0           0           0           0           1  \n",
       "1             0.0         1.0           0           0           0           1  \n",
       "2             0.0         1.0           0           0           0           1  \n",
       "3             0.0         1.0           0           0           0           1  \n",
       "4             0.0         1.0           0           0           0           1  \n",
       "...           ...         ...         ...         ...         ...         ...  \n",
       "17409         0.0         0.0           0           0           0           1  \n",
       "17410         0.0         0.0           0           0           0           1  \n",
       "17411         0.0         0.0           0           0           0           1  \n",
       "17412         0.0         0.0           0           0           0           1  \n",
       "17413         0.0         0.0           0           0           0           1  \n",
       "\n",
       "[17414 rows x 13 columns]"
      ]
     },
     "execution_count": 231,
     "metadata": {},
     "output_type": "execute_result"
    }
   ],
   "source": [
    "#dummy data\n",
    "data = pd.get_dummies(df, columns = ['season'])\n",
    "data"
   ]
  },
  {
   "cell_type": "code",
   "execution_count": 171,
   "id": "78337d2a",
   "metadata": {},
   "outputs": [
    {
     "data": {
      "text/html": [
       "<div>\n",
       "<style scoped>\n",
       "    .dataframe tbody tr th:only-of-type {\n",
       "        vertical-align: middle;\n",
       "    }\n",
       "\n",
       "    .dataframe tbody tr th {\n",
       "        vertical-align: top;\n",
       "    }\n",
       "\n",
       "    .dataframe thead th {\n",
       "        text-align: right;\n",
       "    }\n",
       "</style>\n",
       "<table border=\"1\" class=\"dataframe\">\n",
       "  <thead>\n",
       "    <tr style=\"text-align: right;\">\n",
       "      <th></th>\n",
       "      <th>timestamp</th>\n",
       "      <th>cnt</th>\n",
       "      <th>t1</th>\n",
       "      <th>t2</th>\n",
       "      <th>hum</th>\n",
       "      <th>wind_speed</th>\n",
       "      <th>weather_code</th>\n",
       "      <th>is_holiday</th>\n",
       "      <th>is_weekend</th>\n",
       "      <th>season_0.0</th>\n",
       "      <th>season_1.0</th>\n",
       "      <th>season_2.0</th>\n",
       "      <th>season_3.0</th>\n",
       "    </tr>\n",
       "  </thead>\n",
       "  <tbody>\n",
       "    <tr>\n",
       "      <th>0</th>\n",
       "      <td>2015-01-04 00:00:00</td>\n",
       "      <td>182</td>\n",
       "      <td>3.0</td>\n",
       "      <td>2.0</td>\n",
       "      <td>93.0</td>\n",
       "      <td>6.0</td>\n",
       "      <td>3.0</td>\n",
       "      <td>0.0</td>\n",
       "      <td>1.0</td>\n",
       "      <td>0</td>\n",
       "      <td>0</td>\n",
       "      <td>0</td>\n",
       "      <td>1</td>\n",
       "    </tr>\n",
       "    <tr>\n",
       "      <th>1</th>\n",
       "      <td>2015-01-04 01:00:00</td>\n",
       "      <td>138</td>\n",
       "      <td>3.0</td>\n",
       "      <td>2.5</td>\n",
       "      <td>93.0</td>\n",
       "      <td>5.0</td>\n",
       "      <td>1.0</td>\n",
       "      <td>0.0</td>\n",
       "      <td>1.0</td>\n",
       "      <td>0</td>\n",
       "      <td>0</td>\n",
       "      <td>0</td>\n",
       "      <td>1</td>\n",
       "    </tr>\n",
       "    <tr>\n",
       "      <th>2</th>\n",
       "      <td>2015-01-04 02:00:00</td>\n",
       "      <td>134</td>\n",
       "      <td>2.5</td>\n",
       "      <td>2.5</td>\n",
       "      <td>96.5</td>\n",
       "      <td>0.0</td>\n",
       "      <td>1.0</td>\n",
       "      <td>0.0</td>\n",
       "      <td>1.0</td>\n",
       "      <td>0</td>\n",
       "      <td>0</td>\n",
       "      <td>0</td>\n",
       "      <td>1</td>\n",
       "    </tr>\n",
       "    <tr>\n",
       "      <th>3</th>\n",
       "      <td>2015-01-04 03:00:00</td>\n",
       "      <td>72</td>\n",
       "      <td>2.0</td>\n",
       "      <td>2.0</td>\n",
       "      <td>100.0</td>\n",
       "      <td>0.0</td>\n",
       "      <td>1.0</td>\n",
       "      <td>0.0</td>\n",
       "      <td>1.0</td>\n",
       "      <td>0</td>\n",
       "      <td>0</td>\n",
       "      <td>0</td>\n",
       "      <td>1</td>\n",
       "    </tr>\n",
       "    <tr>\n",
       "      <th>4</th>\n",
       "      <td>2015-01-04 04:00:00</td>\n",
       "      <td>47</td>\n",
       "      <td>2.0</td>\n",
       "      <td>0.0</td>\n",
       "      <td>93.0</td>\n",
       "      <td>6.5</td>\n",
       "      <td>1.0</td>\n",
       "      <td>0.0</td>\n",
       "      <td>1.0</td>\n",
       "      <td>0</td>\n",
       "      <td>0</td>\n",
       "      <td>0</td>\n",
       "      <td>1</td>\n",
       "    </tr>\n",
       "    <tr>\n",
       "      <th>...</th>\n",
       "      <td>...</td>\n",
       "      <td>...</td>\n",
       "      <td>...</td>\n",
       "      <td>...</td>\n",
       "      <td>...</td>\n",
       "      <td>...</td>\n",
       "      <td>...</td>\n",
       "      <td>...</td>\n",
       "      <td>...</td>\n",
       "      <td>...</td>\n",
       "      <td>...</td>\n",
       "      <td>...</td>\n",
       "      <td>...</td>\n",
       "    </tr>\n",
       "    <tr>\n",
       "      <th>15108</th>\n",
       "      <td>2016-09-29 20:00:00</td>\n",
       "      <td>1333</td>\n",
       "      <td>16.0</td>\n",
       "      <td>16.0</td>\n",
       "      <td>57.0</td>\n",
       "      <td>22.0</td>\n",
       "      <td>1.0</td>\n",
       "      <td>0.0</td>\n",
       "      <td>0.0</td>\n",
       "      <td>0</td>\n",
       "      <td>0</td>\n",
       "      <td>1</td>\n",
       "      <td>0</td>\n",
       "    </tr>\n",
       "    <tr>\n",
       "      <th>15109</th>\n",
       "      <td>2016-09-29 21:00:00</td>\n",
       "      <td>1037</td>\n",
       "      <td>15.0</td>\n",
       "      <td>15.0</td>\n",
       "      <td>65.5</td>\n",
       "      <td>22.0</td>\n",
       "      <td>1.0</td>\n",
       "      <td>0.0</td>\n",
       "      <td>0.0</td>\n",
       "      <td>0</td>\n",
       "      <td>0</td>\n",
       "      <td>1</td>\n",
       "      <td>0</td>\n",
       "    </tr>\n",
       "    <tr>\n",
       "      <th>15110</th>\n",
       "      <td>2016-09-29 22:00:00</td>\n",
       "      <td>773</td>\n",
       "      <td>14.5</td>\n",
       "      <td>14.5</td>\n",
       "      <td>65.0</td>\n",
       "      <td>21.0</td>\n",
       "      <td>1.0</td>\n",
       "      <td>0.0</td>\n",
       "      <td>0.0</td>\n",
       "      <td>0</td>\n",
       "      <td>0</td>\n",
       "      <td>1</td>\n",
       "      <td>0</td>\n",
       "    </tr>\n",
       "    <tr>\n",
       "      <th>15111</th>\n",
       "      <td>2016-09-29 23:00:00</td>\n",
       "      <td>572</td>\n",
       "      <td>14.0</td>\n",
       "      <td>14.0</td>\n",
       "      <td>69.5</td>\n",
       "      <td>19.0</td>\n",
       "      <td>1.0</td>\n",
       "      <td>0.0</td>\n",
       "      <td>0.0</td>\n",
       "      <td>0</td>\n",
       "      <td>0</td>\n",
       "      <td>1</td>\n",
       "      <td>0</td>\n",
       "    </tr>\n",
       "    <tr>\n",
       "      <th>15112</th>\n",
       "      <td>2016-09-30 00:00:00</td>\n",
       "      <td>286</td>\n",
       "      <td>14.0</td>\n",
       "      <td>14.0</td>\n",
       "      <td>69.5</td>\n",
       "      <td>21.0</td>\n",
       "      <td>1.0</td>\n",
       "      <td>0.0</td>\n",
       "      <td>0.0</td>\n",
       "      <td>0</td>\n",
       "      <td>0</td>\n",
       "      <td>1</td>\n",
       "      <td>0</td>\n",
       "    </tr>\n",
       "  </tbody>\n",
       "</table>\n",
       "<p>15113 rows × 13 columns</p>\n",
       "</div>"
      ],
      "text/plain": [
       "                timestamp   cnt    t1    t2    hum  wind_speed  weather_code  \\\n",
       "0     2015-01-04 00:00:00   182   3.0   2.0   93.0         6.0           3.0   \n",
       "1     2015-01-04 01:00:00   138   3.0   2.5   93.0         5.0           1.0   \n",
       "2     2015-01-04 02:00:00   134   2.5   2.5   96.5         0.0           1.0   \n",
       "3     2015-01-04 03:00:00    72   2.0   2.0  100.0         0.0           1.0   \n",
       "4     2015-01-04 04:00:00    47   2.0   0.0   93.0         6.5           1.0   \n",
       "...                   ...   ...   ...   ...    ...         ...           ...   \n",
       "15108 2016-09-29 20:00:00  1333  16.0  16.0   57.0        22.0           1.0   \n",
       "15109 2016-09-29 21:00:00  1037  15.0  15.0   65.5        22.0           1.0   \n",
       "15110 2016-09-29 22:00:00   773  14.5  14.5   65.0        21.0           1.0   \n",
       "15111 2016-09-29 23:00:00   572  14.0  14.0   69.5        19.0           1.0   \n",
       "15112 2016-09-30 00:00:00   286  14.0  14.0   69.5        21.0           1.0   \n",
       "\n",
       "       is_holiday  is_weekend  season_0.0  season_1.0  season_2.0  season_3.0  \n",
       "0             0.0         1.0           0           0           0           1  \n",
       "1             0.0         1.0           0           0           0           1  \n",
       "2             0.0         1.0           0           0           0           1  \n",
       "3             0.0         1.0           0           0           0           1  \n",
       "4             0.0         1.0           0           0           0           1  \n",
       "...           ...         ...         ...         ...         ...         ...  \n",
       "15108         0.0         0.0           0           0           1           0  \n",
       "15109         0.0         0.0           0           0           1           0  \n",
       "15110         0.0         0.0           0           0           1           0  \n",
       "15111         0.0         0.0           0           0           1           0  \n",
       "15112         0.0         0.0           0           0           1           0  \n",
       "\n",
       "[15113 rows x 13 columns]"
      ]
     },
     "execution_count": 171,
     "metadata": {},
     "output_type": "execute_result"
    }
   ],
   "source": [
    "#train/test split\n",
    "data['timestamp'] = pd.to_datetime(data['timestamp'],format='%Y-%m-%d')\n",
    "training = data.loc[(data['timestamp'] >= '2015-01-04') & (data['timestamp'] <= '2016-09-30')]\n",
    "test = data.loc[(data['timestamp'] >= '2016-10-01') & (data['timestamp'] <= '2017-01-03')]\n",
    "training"
   ]
  },
  {
   "cell_type": "code",
   "execution_count": 172,
   "id": "43d77c2a",
   "metadata": {},
   "outputs": [
    {
     "name": "stdout",
     "output_type": "stream",
     "text": [
      "15113\n",
      "2255\n"
     ]
    }
   ],
   "source": [
    "#X/Y Split\n",
    "trainingData = training.dropna()\n",
    "trainingData = trainingData.iloc[:,1:].to_numpy()\n",
    "xTrain = trainingData[:,1:]\n",
    "yTrain = trainingData[:,0]\n",
    "testData = test.dropna()\n",
    "testData = testData.iloc[:,1:].to_numpy()\n",
    "xTest = testData[:,1:]\n",
    "yTest = testData[:,0]\n",
    "print(len(xTrain))\n",
    "print(len(xTest))"
   ]
  },
  {
   "cell_type": "code",
   "execution_count": 139,
   "id": "349bc684",
   "metadata": {},
   "outputs": [
    {
     "ename": "ValueError",
     "evalue": "Input contains NaN, infinity or a value too large for dtype('float64').",
     "output_type": "error",
     "traceback": [
      "\u001b[1;31m---------------------------------------------------------------------------\u001b[0m",
      "\u001b[1;31mValueError\u001b[0m                                Traceback (most recent call last)",
      "\u001b[1;32m~\\AppData\\Local\\Temp/ipykernel_24128/4178908350.py\u001b[0m in \u001b[0;36m<module>\u001b[1;34m\u001b[0m\n\u001b[0;32m      1\u001b[0m \u001b[0mzscored\u001b[0m \u001b[1;33m=\u001b[0m \u001b[0mstats\u001b[0m\u001b[1;33m.\u001b[0m\u001b[0mzscore\u001b[0m\u001b[1;33m(\u001b[0m\u001b[0mxTrain\u001b[0m\u001b[1;33m)\u001b[0m\u001b[1;33m\u001b[0m\u001b[1;33m\u001b[0m\u001b[0m\n\u001b[1;32m----> 2\u001b[1;33m \u001b[0mpca\u001b[0m \u001b[1;33m=\u001b[0m \u001b[0mPCA\u001b[0m\u001b[1;33m(\u001b[0m\u001b[1;33m)\u001b[0m\u001b[1;33m.\u001b[0m\u001b[0mfit\u001b[0m\u001b[1;33m(\u001b[0m\u001b[0mzscored\u001b[0m\u001b[1;33m)\u001b[0m\u001b[1;33m\u001b[0m\u001b[1;33m\u001b[0m\u001b[0m\n\u001b[0m\u001b[0;32m      3\u001b[0m \u001b[0meigVals\u001b[0m \u001b[1;33m=\u001b[0m \u001b[0mpca\u001b[0m\u001b[1;33m.\u001b[0m\u001b[0mexplained_variance_\u001b[0m\u001b[1;33m\u001b[0m\u001b[1;33m\u001b[0m\u001b[0m\n\u001b[0;32m      4\u001b[0m \u001b[0mloadings\u001b[0m \u001b[1;33m=\u001b[0m \u001b[0mpca\u001b[0m\u001b[1;33m.\u001b[0m\u001b[0mcomponents_\u001b[0m\u001b[1;33m*\u001b[0m\u001b[1;33m-\u001b[0m\u001b[1;36m1\u001b[0m\u001b[1;33m\u001b[0m\u001b[1;33m\u001b[0m\u001b[0m\n\u001b[0;32m      5\u001b[0m \u001b[0mrotatedData\u001b[0m \u001b[1;33m=\u001b[0m \u001b[0mpca\u001b[0m\u001b[1;33m.\u001b[0m\u001b[0mfit_transform\u001b[0m\u001b[1;33m(\u001b[0m\u001b[0mzscored\u001b[0m\u001b[1;33m)\u001b[0m\u001b[1;33m*\u001b[0m\u001b[1;33m-\u001b[0m\u001b[1;36m1\u001b[0m\u001b[1;33m\u001b[0m\u001b[1;33m\u001b[0m\u001b[0m\n",
      "\u001b[1;32m~\\anaconda3\\lib\\site-packages\\sklearn\\decomposition\\_pca.py\u001b[0m in \u001b[0;36mfit\u001b[1;34m(self, X, y)\u001b[0m\n\u001b[0;32m    357\u001b[0m             \u001b[0mReturns\u001b[0m \u001b[0mthe\u001b[0m \u001b[0minstance\u001b[0m \u001b[0mitself\u001b[0m\u001b[1;33m.\u001b[0m\u001b[1;33m\u001b[0m\u001b[1;33m\u001b[0m\u001b[0m\n\u001b[0;32m    358\u001b[0m         \"\"\"\n\u001b[1;32m--> 359\u001b[1;33m         \u001b[0mself\u001b[0m\u001b[1;33m.\u001b[0m\u001b[0m_fit\u001b[0m\u001b[1;33m(\u001b[0m\u001b[0mX\u001b[0m\u001b[1;33m)\u001b[0m\u001b[1;33m\u001b[0m\u001b[1;33m\u001b[0m\u001b[0m\n\u001b[0m\u001b[0;32m    360\u001b[0m         \u001b[1;32mreturn\u001b[0m \u001b[0mself\u001b[0m\u001b[1;33m\u001b[0m\u001b[1;33m\u001b[0m\u001b[0m\n\u001b[0;32m    361\u001b[0m \u001b[1;33m\u001b[0m\u001b[0m\n",
      "\u001b[1;32m~\\anaconda3\\lib\\site-packages\\sklearn\\decomposition\\_pca.py\u001b[0m in \u001b[0;36m_fit\u001b[1;34m(self, X)\u001b[0m\n\u001b[0;32m    402\u001b[0m                             'TruncatedSVD for a possible alternative.')\n\u001b[0;32m    403\u001b[0m \u001b[1;33m\u001b[0m\u001b[0m\n\u001b[1;32m--> 404\u001b[1;33m         X = self._validate_data(X, dtype=[np.float64, np.float32],\n\u001b[0m\u001b[0;32m    405\u001b[0m                                 ensure_2d=True, copy=self.copy)\n\u001b[0;32m    406\u001b[0m \u001b[1;33m\u001b[0m\u001b[0m\n",
      "\u001b[1;32m~\\anaconda3\\lib\\site-packages\\sklearn\\base.py\u001b[0m in \u001b[0;36m_validate_data\u001b[1;34m(self, X, y, reset, validate_separately, **check_params)\u001b[0m\n\u001b[0;32m    419\u001b[0m             \u001b[0mout\u001b[0m \u001b[1;33m=\u001b[0m \u001b[0mX\u001b[0m\u001b[1;33m\u001b[0m\u001b[1;33m\u001b[0m\u001b[0m\n\u001b[0;32m    420\u001b[0m         \u001b[1;32melif\u001b[0m \u001b[0misinstance\u001b[0m\u001b[1;33m(\u001b[0m\u001b[0my\u001b[0m\u001b[1;33m,\u001b[0m \u001b[0mstr\u001b[0m\u001b[1;33m)\u001b[0m \u001b[1;32mand\u001b[0m \u001b[0my\u001b[0m \u001b[1;33m==\u001b[0m \u001b[1;34m'no_validation'\u001b[0m\u001b[1;33m:\u001b[0m\u001b[1;33m\u001b[0m\u001b[1;33m\u001b[0m\u001b[0m\n\u001b[1;32m--> 421\u001b[1;33m             \u001b[0mX\u001b[0m \u001b[1;33m=\u001b[0m \u001b[0mcheck_array\u001b[0m\u001b[1;33m(\u001b[0m\u001b[0mX\u001b[0m\u001b[1;33m,\u001b[0m \u001b[1;33m**\u001b[0m\u001b[0mcheck_params\u001b[0m\u001b[1;33m)\u001b[0m\u001b[1;33m\u001b[0m\u001b[1;33m\u001b[0m\u001b[0m\n\u001b[0m\u001b[0;32m    422\u001b[0m             \u001b[0mout\u001b[0m \u001b[1;33m=\u001b[0m \u001b[0mX\u001b[0m\u001b[1;33m\u001b[0m\u001b[1;33m\u001b[0m\u001b[0m\n\u001b[0;32m    423\u001b[0m         \u001b[1;32melse\u001b[0m\u001b[1;33m:\u001b[0m\u001b[1;33m\u001b[0m\u001b[1;33m\u001b[0m\u001b[0m\n",
      "\u001b[1;32m~\\anaconda3\\lib\\site-packages\\sklearn\\utils\\validation.py\u001b[0m in \u001b[0;36minner_f\u001b[1;34m(*args, **kwargs)\u001b[0m\n\u001b[0;32m     61\u001b[0m             \u001b[0mextra_args\u001b[0m \u001b[1;33m=\u001b[0m \u001b[0mlen\u001b[0m\u001b[1;33m(\u001b[0m\u001b[0margs\u001b[0m\u001b[1;33m)\u001b[0m \u001b[1;33m-\u001b[0m \u001b[0mlen\u001b[0m\u001b[1;33m(\u001b[0m\u001b[0mall_args\u001b[0m\u001b[1;33m)\u001b[0m\u001b[1;33m\u001b[0m\u001b[1;33m\u001b[0m\u001b[0m\n\u001b[0;32m     62\u001b[0m             \u001b[1;32mif\u001b[0m \u001b[0mextra_args\u001b[0m \u001b[1;33m<=\u001b[0m \u001b[1;36m0\u001b[0m\u001b[1;33m:\u001b[0m\u001b[1;33m\u001b[0m\u001b[1;33m\u001b[0m\u001b[0m\n\u001b[1;32m---> 63\u001b[1;33m                 \u001b[1;32mreturn\u001b[0m \u001b[0mf\u001b[0m\u001b[1;33m(\u001b[0m\u001b[1;33m*\u001b[0m\u001b[0margs\u001b[0m\u001b[1;33m,\u001b[0m \u001b[1;33m**\u001b[0m\u001b[0mkwargs\u001b[0m\u001b[1;33m)\u001b[0m\u001b[1;33m\u001b[0m\u001b[1;33m\u001b[0m\u001b[0m\n\u001b[0m\u001b[0;32m     64\u001b[0m \u001b[1;33m\u001b[0m\u001b[0m\n\u001b[0;32m     65\u001b[0m             \u001b[1;31m# extra_args > 0\u001b[0m\u001b[1;33m\u001b[0m\u001b[1;33m\u001b[0m\u001b[0m\n",
      "\u001b[1;32m~\\anaconda3\\lib\\site-packages\\sklearn\\utils\\validation.py\u001b[0m in \u001b[0;36mcheck_array\u001b[1;34m(array, accept_sparse, accept_large_sparse, dtype, order, copy, force_all_finite, ensure_2d, allow_nd, ensure_min_samples, ensure_min_features, estimator)\u001b[0m\n\u001b[0;32m    718\u001b[0m \u001b[1;33m\u001b[0m\u001b[0m\n\u001b[0;32m    719\u001b[0m         \u001b[1;32mif\u001b[0m \u001b[0mforce_all_finite\u001b[0m\u001b[1;33m:\u001b[0m\u001b[1;33m\u001b[0m\u001b[1;33m\u001b[0m\u001b[0m\n\u001b[1;32m--> 720\u001b[1;33m             _assert_all_finite(array,\n\u001b[0m\u001b[0;32m    721\u001b[0m                                allow_nan=force_all_finite == 'allow-nan')\n\u001b[0;32m    722\u001b[0m \u001b[1;33m\u001b[0m\u001b[0m\n",
      "\u001b[1;32m~\\anaconda3\\lib\\site-packages\\sklearn\\utils\\validation.py\u001b[0m in \u001b[0;36m_assert_all_finite\u001b[1;34m(X, allow_nan, msg_dtype)\u001b[0m\n\u001b[0;32m    101\u001b[0m                 not allow_nan and not np.isfinite(X).all()):\n\u001b[0;32m    102\u001b[0m             \u001b[0mtype_err\u001b[0m \u001b[1;33m=\u001b[0m \u001b[1;34m'infinity'\u001b[0m \u001b[1;32mif\u001b[0m \u001b[0mallow_nan\u001b[0m \u001b[1;32melse\u001b[0m \u001b[1;34m'NaN, infinity'\u001b[0m\u001b[1;33m\u001b[0m\u001b[1;33m\u001b[0m\u001b[0m\n\u001b[1;32m--> 103\u001b[1;33m             raise ValueError(\n\u001b[0m\u001b[0;32m    104\u001b[0m                     \u001b[0mmsg_err\u001b[0m\u001b[1;33m.\u001b[0m\u001b[0mformat\u001b[0m\u001b[1;33m\u001b[0m\u001b[1;33m\u001b[0m\u001b[0m\n\u001b[0;32m    105\u001b[0m                     (type_err,\n",
      "\u001b[1;31mValueError\u001b[0m: Input contains NaN, infinity or a value too large for dtype('float64')."
     ]
    }
   ],
   "source": [
    "#PCA\n",
    "zscored = stats.zscore(xTrain)\n",
    "pca = PCA().fit(zscored)\n",
    "eigVals = pca.explained_variance_\n",
    "loadings = pca.components_*-1\n",
    "rotatedData = pca.fit_transform(zscored)*-1\n",
    "print(eigVals)\n",
    "n = 8\n",
    "plt.bar(np.linspace(1,n,n),eigVals)\n",
    "plt.xlabel(\"Principal Components\")\n",
    "plt.ylabel(\"Eigenvalues\")\n",
    "plt.show()\n",
    "\n",
    "threshold = 1\n",
    "kaiser = np.count_nonzero(eigVals > threshold)\n",
    "print(kaiser)\n",
    "\n",
    "for i in range(kaiser):\n",
    "    plt.subplot(2, 2, i+1)\n",
    "    plt.bar(np.linspace(1,n,n),loadings[i,:])\n",
    "    plt.xlabel('Predictors')\n",
    "    plt.ylabel('Loading')\n",
    "plt.show()"
   ]
  },
  {
   "cell_type": "code",
   "execution_count": 151,
   "id": "2ba5e4ab",
   "metadata": {},
   "outputs": [
    {
     "name": "stdout",
     "output_type": "stream",
     "text": [
      "-0.8543553388741119\n",
      "0.5918967853123428\n"
     ]
    },
    {
     "data": {
      "text/plain": [
       "'\\nmodel2 = LinearRegression().fit(xTrain[:,:2],yTrain)\\nbeta0 = model1.intercept_\\nbeta1 = model1.coef_\\n\\nyHat2 = model2.predict(xTest[:,:2])\\ncorr2 = np.corrcoef(yHat2,yTest)[0,1]\\nprint(corr2)\\n'"
      ]
     },
     "execution_count": 151,
     "metadata": {},
     "output_type": "execute_result"
    }
   ],
   "source": [
    "#Multiple Linear Regression\n",
    "model1 = LinearRegression().fit(xTrain,yTrain)\n",
    "beta0 = model1.intercept_\n",
    "beta1 = model1.coef_\n",
    "\n",
    "yHat1 = model1.predict(xTest)\n",
    "corr1 = np.corrcoef(yHat1,yTest)[0,1]\n",
    "mse = mean_squared_error(yTest,yHat1)\n",
    "print(mse)\n",
    "print(corr1)"
   ]
  },
  {
   "cell_type": "code",
   "execution_count": 232,
   "id": "21b98643",
   "metadata": {},
   "outputs": [
    {
     "name": "stderr",
     "output_type": "stream",
     "text": [
      "C:\\Users\\ruiji\\anaconda3\\lib\\site-packages\\numpy\\lib\\function_base.py:2634: RuntimeWarning: Degrees of freedom <= 0 for slice\n",
      "  c = cov(x, y, rowvar, dtype=dtype)\n",
      "C:\\Users\\ruiji\\anaconda3\\lib\\site-packages\\numpy\\lib\\function_base.py:2493: RuntimeWarning: divide by zero encountered in true_divide\n",
      "  c *= np.true_divide(1, fact)\n",
      "C:\\Users\\ruiji\\anaconda3\\lib\\site-packages\\numpy\\lib\\function_base.py:2493: RuntimeWarning: invalid value encountered in multiply\n",
      "  c *= np.true_divide(1, fact)\n"
     ]
    },
    {
     "name": "stdout",
     "output_type": "stream",
     "text": [
      "0.014430490618868665\n",
      "nan\n"
     ]
    }
   ],
   "source": [
    "#Multiple Linear Regression (Season Split)\n",
    "model1 = LinearRegression().fit(xTrain,yTrain)\n",
    "beta0 = model1.intercept_\n",
    "beta1 = model1.coef_\n",
    "\n",
    "yHat1 = model1.predict(xTest)\n",
    "corr1 = np.corrcoef(yHat1,yTest)[0,1]\n",
    "mse = mean_squared_error(yTest,yHat1)\n",
    "print(mse)\n",
    "print(corr1)"
   ]
  },
  {
   "cell_type": "code",
   "execution_count": 174,
   "id": "bba28eaa",
   "metadata": {},
   "outputs": [
    {
     "data": {
      "image/png": "[encoded data removed]",
      "text/plain": [
       "<Figure size 432x288 with 1 Axes>"
      ]
     },
     "metadata": {
      "needs_background": "light"
     },
     "output_type": "display_data"
    }
   ],
   "source": [
    "plt.plot(yTest,yHat1,'o',markersize=1)\n",
    "plt.xlabel(\"Actual Values\")\n",
    "plt.ylabel(\"Predicted Values\")\n",
    "plt.show()"
   ]
  },
  {
   "cell_type": "code",
   "execution_count": 109,
   "id": "77ba42fa",
   "metadata": {},
   "outputs": [
    {
     "name": "stdout",
     "output_type": "stream",
     "text": [
      "958982.4157513852\n",
      "0.025601219205412362\n"
     ]
    }
   ],
   "source": [
    "#Random Forest \n",
    "model_random_forest = RandomForestRegressor(n_estimators=27).fit(xTrain,yTrain)\n",
    "prediction = model_random_forest.predict(xTest)\n",
    "mse = mean_squared_error(yTest,prediction)\n",
    "r2 = r2_score(yTest,prediction)\n",
    "print(mse)\n",
    "print(r2)"
   ]
  },
  {
   "cell_type": "code",
   "execution_count": 247,
   "id": "b623999c",
   "metadata": {},
   "outputs": [
    {
     "name": "stderr",
     "output_type": "stream",
     "text": [
      "C:\\Users\\ruiji\\AppData\\Local\\Temp/ipykernel_24128/3785962974.py:2: DataConversionWarning: A column-vector y was passed when a 1d array was expected. Please change the shape of y to (n_samples,), for example using ravel().\n",
      "  model_random_forest = RandomForestRegressor(n_estimators=75).fit(xTrain,yTrain)\n"
     ]
    },
    {
     "name": "stdout",
     "output_type": "stream",
     "text": [
      "0.015301141083581297\n",
      "0.04437168645970735\n"
     ]
    }
   ],
   "source": [
    "#Random Forest (Season Split) \n",
    "model_random_forest = RandomForestRegressor(n_estimators=75).fit(xTrain,yTrain)\n",
    "prediction = model_random_forest.predict(xTest)\n",
    "mse = mean_squared_error(yTest,prediction)\n",
    "r2 = r2_score(yTest,prediction)\n",
    "print(mse)\n",
    "print(r2)"
   ]
  },
  {
   "cell_type": "code",
   "execution_count": 244,
   "id": "25cb4076",
   "metadata": {},
   "outputs": [
    {
     "data": {
      "image/png": "[encoded data removed]",
      "text/plain": [
       "<Figure size 432x288 with 1 Axes>"
      ]
     },
     "metadata": {
      "needs_background": "light"
     },
     "output_type": "display_data"
    }
   ],
   "source": [
    "plt.plot(yTest,prediction,'o',markersize=1)\n",
    "plt.xlabel(\"Actual Values\")\n",
    "plt.ylabel(\"Predicted Values\")\n",
    "plt.show()"
   ]
  },
  {
   "cell_type": "code",
   "execution_count": 1,
   "id": "2d0cc92c",
   "metadata": {},
   "outputs": [
    {
     "ename": "ModuleNotFoundError",
     "evalue": "No module named 'xgboost'",
     "output_type": "error",
     "traceback": [
      "\u001b[1;31m---------------------------------------------------------------------------\u001b[0m",
      "\u001b[1;31mModuleNotFoundError\u001b[0m                       Traceback (most recent call last)",
      "\u001b[1;32m~\\AppData\\Local\\Temp/ipykernel_24128/2201378394.py\u001b[0m in \u001b[0;36m<module>\u001b[1;34m\u001b[0m\n\u001b[0;32m      1\u001b[0m \u001b[1;31m#XGBOOST\u001b[0m\u001b[1;33m\u001b[0m\u001b[1;33m\u001b[0m\u001b[0m\n\u001b[1;32m----> 2\u001b[1;33m \u001b[1;32mimport\u001b[0m \u001b[0mxgboost\u001b[0m \u001b[1;32mas\u001b[0m \u001b[0mxgb\u001b[0m\u001b[1;33m\u001b[0m\u001b[1;33m\u001b[0m\u001b[0m\n\u001b[0m\u001b[0;32m      3\u001b[0m \u001b[1;33m\u001b[0m\u001b[0m\n\u001b[0;32m      4\u001b[0m \u001b[0mdtrain\u001b[0m \u001b[1;33m=\u001b[0m \u001b[0mxgb\u001b[0m\u001b[1;33m.\u001b[0m\u001b[0mDMatrix\u001b[0m\u001b[1;33m(\u001b[0m\u001b[0mdata\u001b[0m\u001b[1;33m,\u001b[0m \u001b[0mlabel\u001b[0m\u001b[1;33m=\u001b[0m\u001b[0mlabel\u001b[0m\u001b[1;33m)\u001b[0m\u001b[1;33m\u001b[0m\u001b[1;33m\u001b[0m\u001b[0m\n\u001b[0;32m      5\u001b[0m \u001b[0mdtrain\u001b[0m\u001b[1;33m\u001b[0m\u001b[1;33m\u001b[0m\u001b[0m\n",
      "\u001b[1;31mModuleNotFoundError\u001b[0m: No module named 'xgboost'"
     ]
    }
   ],
   "source": [
    "#XGBOOST\n",
    "from xgboost import XGBClassifier\n",
    "\n",
    "# fit model no training data\n",
    "model = XGBClassifier()\n",
    "model.fit(X_train, y_train)\n",
    "\n",
    "\n",
    "y_pred = model.predict(X_test)\n",
    "predictions = [round(value) for value in y_pred]\n"
   ]
  },
  {
   "cell_type": "code",
   "execution_count": 5,
   "id": "f4c6af41",
   "metadata": {},
   "outputs": [
    {
     "name": "stdout",
     "output_type": "stream",
     "text": [
      "Collecting tensorflow\n",
      "  Downloading tensorflow-2.9.1-cp39-cp39-win_amd64.whl (444.0 MB)\n",
      "Requirement already satisfied: wrapt>=1.11.0 in c:\\users\\ruiji\\anaconda3\\lib\\site-packages (from tensorflow) (1.12.1)\n",
      "Collecting gast<=0.4.0,>=0.2.1\n",
      "  Downloading gast-0.4.0-py3-none-any.whl (9.8 kB)\n",
      "Collecting protobuf<3.20,>=3.9.2\n",
      "  Downloading protobuf-3.19.4-cp39-cp39-win_amd64.whl (895 kB)\n",
      "Collecting tensorflow-io-gcs-filesystem>=0.23.1\n",
      "  Downloading tensorflow_io_gcs_filesystem-0.26.0-cp39-cp39-win_amd64.whl (1.5 MB)\n",
      "Collecting keras-preprocessing>=1.1.1\n",
      "  Downloading Keras_Preprocessing-1.1.2-py2.py3-none-any.whl (42 kB)\n",
      "Collecting tensorflow-estimator<2.10.0,>=2.9.0rc0\n",
      "  Downloading tensorflow_estimator-2.9.0-py2.py3-none-any.whl (438 kB)\n",
      "Collecting flatbuffers<2,>=1.12\n",
      "  Downloading flatbuffers-1.12-py2.py3-none-any.whl (15 kB)\n",
      "Collecting google-pasta>=0.1.1\n",
      "  Downloading google_pasta-0.2.0-py3-none-any.whl (57 kB)\n",
      "Collecting termcolor>=1.1.0\n",
      "  Downloading termcolor-1.1.0.tar.gz (3.9 kB)\n",
      "Collecting tensorboard<2.10,>=2.9\n",
      "  Downloading tensorboard-2.9.1-py3-none-any.whl (5.8 MB)\n",
      "Requirement already satisfied: setuptools in c:\\users\\ruiji\\anaconda3\\lib\\site-packages (from tensorflow) (58.0.4)\n",
      "Requirement already satisfied: h5py>=2.9.0 in c:\\users\\ruiji\\anaconda3\\lib\\site-packages (from tensorflow) (3.2.1)\n",
      "Collecting libclang>=13.0.0\n",
      "  Downloading libclang-14.0.1-py2.py3-none-win_amd64.whl (14.2 MB)\n",
      "Collecting astunparse>=1.6.0\n",
      "  Downloading astunparse-1.6.3-py2.py3-none-any.whl (12 kB)\n",
      "Requirement already satisfied: typing-extensions>=3.6.6 in c:\\users\\ruiji\\anaconda3\\lib\\site-packages (from tensorflow) (3.10.0.2)\n",
      "Collecting opt-einsum>=2.3.2\n",
      "  Downloading opt_einsum-3.3.0-py3-none-any.whl (65 kB)\n",
      "Collecting grpcio<2.0,>=1.24.3\n",
      "  Downloading grpcio-1.47.0-cp39-cp39-win_amd64.whl (3.6 MB)\n",
      "Requirement already satisfied: packaging in c:\\users\\ruiji\\anaconda3\\lib\\site-packages (from tensorflow) (21.0)\n",
      "Requirement already satisfied: keras<2.10.0,>=2.9.0rc0 in c:\\users\\ruiji\\anaconda3\\lib\\site-packages (from tensorflow) (2.9.0)\n",
      "Collecting absl-py>=1.0.0\n",
      "  Downloading absl_py-1.1.0-py3-none-any.whl (123 kB)\n",
      "Requirement already satisfied: numpy>=1.20 in c:\\users\\ruiji\\anaconda3\\lib\\site-packages (from tensorflow) (1.20.3)\n",
      "Requirement already satisfied: six>=1.12.0 in c:\\users\\ruiji\\anaconda3\\lib\\site-packages (from tensorflow) (1.16.0)\n",
      "Requirement already satisfied: wheel<1.0,>=0.23.0 in c:\\users\\ruiji\\anaconda3\\lib\\site-packages (from astunparse>=1.6.0->tensorflow) (0.37.0)\n",
      "Requirement already satisfied: requests<3,>=2.21.0 in c:\\users\\ruiji\\anaconda3\\lib\\site-packages (from tensorboard<2.10,>=2.9->tensorflow) (2.26.0)\n",
      "Collecting markdown>=2.6.8\n",
      "  Downloading Markdown-3.3.7-py3-none-any.whl (97 kB)\n",
      "Collecting tensorboard-plugin-wit>=1.6.0\n",
      "  Downloading tensorboard_plugin_wit-1.8.1-py3-none-any.whl (781 kB)\n",
      "Collecting tensorboard-data-server<0.7.0,>=0.6.0\n",
      "  Downloading tensorboard_data_server-0.6.1-py3-none-any.whl (2.4 kB)\n",
      "Collecting google-auth-oauthlib<0.5,>=0.4.1\n",
      "  Downloading google_auth_oauthlib-0.4.6-py2.py3-none-any.whl (18 kB)\n",
      "Collecting google-auth<3,>=1.6.3\n",
      "  Downloading google_auth-2.9.0-py2.py3-none-any.whl (167 kB)\n",
      "Requirement already satisfied: werkzeug>=1.0.1 in c:\\users\\ruiji\\anaconda3\\lib\\site-packages (from tensorboard<2.10,>=2.9->tensorflow) (2.0.2)\n",
      "Collecting cachetools<6.0,>=2.0.0\n",
      "  Downloading cachetools-5.2.0-py3-none-any.whl (9.3 kB)\n",
      "Collecting pyasn1-modules>=0.2.1\n",
      "  Downloading pyasn1_modules-0.2.8-py2.py3-none-any.whl (155 kB)\n",
      "Collecting rsa<5,>=3.1.4\n",
      "  Downloading rsa-4.8-py3-none-any.whl (39 kB)\n",
      "Collecting requests-oauthlib>=0.7.0\n",
      "  Downloading requests_oauthlib-1.3.1-py2.py3-none-any.whl (23 kB)\n",
      "Requirement already satisfied: importlib-metadata>=4.4 in c:\\users\\ruiji\\anaconda3\\lib\\site-packages (from markdown>=2.6.8->tensorboard<2.10,>=2.9->tensorflow) (4.8.1)\n",
      "Requirement already satisfied: zipp>=0.5 in c:\\users\\ruiji\\anaconda3\\lib\\site-packages (from importlib-metadata>=4.4->markdown>=2.6.8->tensorboard<2.10,>=2.9->tensorflow) (3.6.0)\n",
      "Collecting pyasn1<0.5.0,>=0.4.6\n",
      "  Downloading pyasn1-0.4.8-py2.py3-none-any.whl (77 kB)\n",
      "Requirement already satisfied: urllib3<1.27,>=1.21.1 in c:\\users\\ruiji\\anaconda3\\lib\\site-packages (from requests<3,>=2.21.0->tensorboard<2.10,>=2.9->tensorflow) (1.26.7)\n",
      "Requirement already satisfied: certifi>=2017.4.17 in c:\\users\\ruiji\\anaconda3\\lib\\site-packages (from requests<3,>=2.21.0->tensorboard<2.10,>=2.9->tensorflow) (2021.10.8)\n",
      "Requirement already satisfied: charset-normalizer~=2.0.0 in c:\\users\\ruiji\\anaconda3\\lib\\site-packages (from requests<3,>=2.21.0->tensorboard<2.10,>=2.9->tensorflow) (2.0.4)\n",
      "Requirement already satisfied: idna<4,>=2.5 in c:\\users\\ruiji\\anaconda3\\lib\\site-packages (from requests<3,>=2.21.0->tensorboard<2.10,>=2.9->tensorflow) (3.2)\n",
      "Collecting oauthlib>=3.0.0\n",
      "  Downloading oauthlib-3.2.0-py3-none-any.whl (151 kB)\n",
      "Requirement already satisfied: pyparsing>=2.0.2 in c:\\users\\ruiji\\anaconda3\\lib\\site-packages (from packaging->tensorflow) (3.0.4)\n",
      "Building wheels for collected packages: termcolor\n",
      "  Building wheel for termcolor (setup.py): started\n",
      "  Building wheel for termcolor (setup.py): finished with status 'done'\n",
      "  Created wheel for termcolor: filename=termcolor-1.1.0-py3-none-any.whl size=4847 sha256=82583f7a0f7c28e07fe190fb15f777ba95efc328a7fa81f7b05f4b1b20a8c2ce\n",
      "  Stored in directory: c:\\users\\ruiji\\appdata\\local\\pip\\cache\\wheels\\b6\\0d\\90\\0d1bbd99855f99cb2f6c2e5ff96f8023fad8ec367695f7d72d\n",
      "Successfully built termcolor\n",
      "Installing collected packages: pyasn1, rsa, pyasn1-modules, oauthlib, cachetools, requests-oauthlib, google-auth, tensorboard-plugin-wit, tensorboard-data-server, protobuf, markdown, grpcio, google-auth-oauthlib, absl-py, termcolor, tensorflow-io-gcs-filesystem, tensorflow-estimator, tensorboard, opt-einsum, libclang, keras-preprocessing, google-pasta, gast, flatbuffers, astunparse, tensorflow\n",
      "Successfully installed absl-py-1.1.0 astunparse-1.6.3 cachetools-5.2.0 flatbuffers-1.12 gast-0.4.0 google-auth-2.9.0 google-auth-oauthlib-0.4.6 google-pasta-0.2.0 grpcio-1.47.0 keras-preprocessing-1.1.2 libclang-14.0.1 markdown-3.3.7 oauthlib-3.2.0 opt-einsum-3.3.0 protobuf-3.19.4 pyasn1-0.4.8 pyasn1-modules-0.2.8 requests-oauthlib-1.3.1 rsa-4.8 tensorboard-2.9.1 tensorboard-data-server-0.6.1 tensorboard-plugin-wit-1.8.1 tensorflow-2.9.1 tensorflow-estimator-2.9.0 tensorflow-io-gcs-filesystem-0.26.0 termcolor-1.1.0\n",
      "Requirement already satisfied: keras in c:\\users\\ruiji\\anaconda3\\lib\\site-packages (2.9.0)\n"
     ]
    }
   ],
   "source": [
    "#Deep Learning\n",
    "!pip install tensorflow\n",
    "!pip install keras \n",
    "from sklearn.preprocessing import MinMaxScaler\n",
    "from keras.models import Sequential\n",
    "from keras.layers import Dense, Dropout\n",
    "from sklearn.metrics import accuracy_score, roc_auc_score\n",
    "from keras.optimizers import SGD"
   ]
  },
  {
   "cell_type": "code",
   "execution_count": 233,
   "id": "17927356",
   "metadata": {},
   "outputs": [
    {
     "data": {
      "text/plain": [
       "array([[0.12676056, 0.2       , 0.91194969, ..., 0.        , 0.        ,\n",
       "        1.        ],\n",
       "       [0.12676056, 0.2125    , 0.91194969, ..., 0.        , 0.        ,\n",
       "        1.        ],\n",
       "       [0.11267606, 0.2125    , 0.95597484, ..., 0.        , 0.        ,\n",
       "        1.        ],\n",
       "       ...,\n",
       "       [0.1971831 , 0.1875    , 0.72955975, ..., 0.        , 0.        ,\n",
       "        1.        ],\n",
       "       [0.1971831 , 0.1875    , 0.69811321, ..., 0.        , 0.        ,\n",
       "        1.        ],\n",
       "       [0.18309859, 0.175     , 0.69811321, ..., 0.        , 0.        ,\n",
       "        1.        ]])"
      ]
     },
     "execution_count": 233,
     "metadata": {},
     "output_type": "execute_result"
    }
   ],
   "source": [
    "#Normalize the whole dataset.\n",
    "Data = data.drop(columns=['timestamp'])\n",
    "scaler_Data = MinMaxScaler().fit(Data.values)\n",
    "Data_scaled = scaler_Data.transform(Data.values)\n",
    "\n",
    "target = Data_scaled[:,0].reshape(-1,1)\n",
    "Data_scaled = Data_scaled[:,1:]\n",
    "Data_scaled\n",
    "xTrain = Data_scaled[:15113, :]\n",
    "yTrain = target[:15113,:]\n",
    "xTest = Data_scaled[15113:,:]\n",
    "yTest = target[15113:,:]"
   ]
  },
  {
   "cell_type": "code",
   "execution_count": null,
   "id": "db2599c8",
   "metadata": {},
   "outputs": [],
   "source": [
    "#Normalize the whole dataset.\n",
    "Data = data.drop(columns=['timestamp'])\n",
    "scaler_Data = MinMaxScaler().fit(Data[:,0].values)\n",
    "Data_scaled = scaler_Data.transform(Data[:,0].values)\n",
    "\n",
    "target = Data_scaled.reshape(-1,1)\n",
    "\n",
    "Data_scaled\n",
    "xTrain = Data.iloc[:15113, 1:].to_numpy()\n",
    "yTrain = target[:15113,:]\n",
    "xTest = Data_scaled[15113:,:]\n",
    "yTest = target[15113:,:]"
   ]
  },
  {
   "cell_type": "code",
   "execution_count": 290,
   "id": "5a852d30",
   "metadata": {},
   "outputs": [
    {
     "data": {
      "text/plain": [
       "array([[ 3. ,  2. , 93. , ...,  0. ,  0. ,  1. ],\n",
       "       [ 3. ,  2.5, 93. , ...,  0. ,  0. ,  1. ],\n",
       "       [ 2.5,  2.5, 96.5, ...,  0. ,  0. ,  1. ],\n",
       "       ...,\n",
       "       [14.5, 14.5, 65. , ...,  0. ,  1. ,  0. ],\n",
       "       [14. , 14. , 69.5, ...,  0. ,  1. ,  0. ],\n",
       "       [14. , 14. , 69.5, ...,  0. ,  1. ,  0. ]])"
      ]
     },
     "execution_count": 290,
     "metadata": {},
     "output_type": "execute_result"
    }
   ],
   "source": [
    "Data.iloc[:15113, 1:].to_numpy()"
   ]
  },
  {
   "cell_type": "code",
   "execution_count": 234,
   "id": "bfccbad1",
   "metadata": {},
   "outputs": [],
   "source": [
    "xTrain = Data_scaled[:15113, :]\n",
    "yTrain = target[:15113,:]\n",
    "xTest = Data_scaled[15113:,:]\n",
    "yTest = target[15113:,:]"
   ]
  },
  {
   "cell_type": "code",
   "execution_count": 235,
   "id": "7811dcd8",
   "metadata": {},
   "outputs": [
    {
     "name": "stderr",
     "output_type": "stream",
     "text": [
      "C:\\Users\\ruiji\\anaconda3\\lib\\site-packages\\keras\\optimizers\\optimizer_v2\\gradient_descent.py:108: UserWarning: The `lr` argument is deprecated, use `learning_rate` instead.\n",
      "  super(SGD, self).__init__(name, **kwargs)\n"
     ]
    }
   ],
   "source": [
    "layer1_units = 5\n",
    "layer2_units = 5\n",
    "\n",
    "loss = 'mean_squared_error'\n",
    "\n",
    "metrics = ['mean_squared_error']\n",
    "epochs = 25\n",
    "batch_size = 100\n",
    "layer1_activation = 'relu'\n",
    "layer2_activation = 'relu'\n",
    "output_activation = 'sigmoid'\n",
    "layer1_dropout_rate = 0.05\n",
    "layer2_dropout_rate = 0.00\n",
    "learning_rate=0.01\n",
    "decay=1e-6\n",
    "momentum=0.5\n",
    "\n",
    "optimizer = SGD(lr=learning_rate, decay=decay, momentum=momentum)"
   ]
  },
  {
   "cell_type": "code",
   "execution_count": 227,
   "id": "c095b4d9",
   "metadata": {},
   "outputs": [],
   "source": [
    "model3 = Sequential()\n",
    "model3.add(Dense(layer1_units, input_dim=Data_scaled.shape[1], activation=layer1_activation))\n",
    "model3.add(Dropout(layer1_dropout_rate))\n",
    "model3.add(Dense(layer2_units, activation=layer1_activation))\n",
    "model3.add(Dropout(layer2_dropout_rate))\n",
    "model3.add(Dense(1, activation=output_activation))\n",
    "model3.compile(loss=loss, optimizer=optimizer, metrics=metrics)\n",
    "\n"
   ]
  },
  {
   "cell_type": "code",
   "execution_count": 228,
   "id": "61fc60cb",
   "metadata": {},
   "outputs": [
    {
     "name": "stdout",
     "output_type": "stream",
     "text": [
      "Model: \"sequential_7\"\n",
      "_________________________________________________________________\n",
      " Layer (type)                Output Shape              Param #   \n",
      "=================================================================\n",
      " dense_18 (Dense)            (None, 5)                 60        \n",
      "                                                                 \n",
      " dropout_12 (Dropout)        (None, 5)                 0         \n",
      "                                                                 \n",
      " dense_19 (Dense)            (None, 5)                 30        \n",
      "                                                                 \n",
      " dropout_13 (Dropout)        (None, 5)                 0         \n",
      "                                                                 \n",
      " dense_20 (Dense)            (None, 1)                 6         \n",
      "                                                                 \n",
      "=================================================================\n",
      "Total params: 96\n",
      "Trainable params: 96\n",
      "Non-trainable params: 0\n",
      "_________________________________________________________________\n"
     ]
    }
   ],
   "source": [
    "model_test = model3\n",
    "model_test.summary()"
   ]
  },
  {
   "cell_type": "code",
   "execution_count": 229,
   "id": "eb041008",
   "metadata": {},
   "outputs": [
    {
     "name": "stdout",
     "output_type": "stream",
     "text": [
      "Epoch 1/25\n",
      "152/152 [==============================] - 3s 8ms/step - loss: 0.1223 - accuracy: 6.6168e-05 - val_loss: 0.0792 - val_accuracy: 6.6168e-05\n",
      "Epoch 2/25\n",
      "152/152 [==============================] - 1s 5ms/step - loss: 0.0624 - accuracy: 6.6168e-05 - val_loss: 0.0495 - val_accuracy: 6.6168e-05\n",
      "Epoch 3/25\n",
      "152/152 [==============================] - 1s 9ms/step - loss: 0.0425 - accuracy: 6.6168e-05 - val_loss: 0.0368 - val_accuracy: 6.6168e-05\n",
      "Epoch 4/25\n",
      "152/152 [==============================] - 1s 10ms/step - loss: 0.0333 - accuracy: 6.6168e-05 - val_loss: 0.0303 - val_accuracy: 6.6168e-05\n",
      "Epoch 5/25\n",
      "152/152 [==============================] - 2s 11ms/step - loss: 0.0283 - accuracy: 6.6168e-05 - val_loss: 0.0266 - val_accuracy: 6.6168e-05\n",
      "Epoch 6/25\n",
      "152/152 [==============================] - 1s 7ms/step - loss: 0.0254 - accuracy: 6.6168e-05 - val_loss: 0.0243 - val_accuracy: 6.6168e-05\n",
      "Epoch 7/25\n",
      "152/152 [==============================] - 1s 7ms/step - loss: 0.0236 - accuracy: 6.6168e-05 - val_loss: 0.0229 - val_accuracy: 6.6168e-05\n",
      "Epoch 8/25\n",
      "152/152 [==============================] - 1s 8ms/step - loss: 0.0224 - accuracy: 6.6168e-05 - val_loss: 0.0219 - val_accuracy: 6.6168e-05\n",
      "Epoch 9/25\n",
      "152/152 [==============================] - 1s 8ms/step - loss: 0.0216 - accuracy: 6.6168e-05 - val_loss: 0.0212 - val_accuracy: 6.6168e-05\n",
      "Epoch 10/25\n",
      "152/152 [==============================] - 1s 8ms/step - loss: 0.0210 - accuracy: 6.6168e-05 - val_loss: 0.0207 - val_accuracy: 6.6168e-05\n",
      "Epoch 11/25\n",
      "152/152 [==============================] - 1s 7ms/step - loss: 0.0206 - accuracy: 6.6168e-05 - val_loss: 0.0204 - val_accuracy: 6.6168e-05\n",
      "Epoch 12/25\n",
      "152/152 [==============================] - 1s 8ms/step - loss: 0.0202 - accuracy: 6.6168e-05 - val_loss: 0.0201 - val_accuracy: 6.6168e-05\n",
      "Epoch 13/25\n",
      "152/152 [==============================] - 1s 7ms/step - loss: 0.0200 - accuracy: 6.6168e-05 - val_loss: 0.0199 - val_accuracy: 6.6168e-05\n",
      "Epoch 14/25\n",
      "152/152 [==============================] - 1s 8ms/step - loss: 0.0198 - accuracy: 6.6168e-05 - val_loss: 0.0197 - val_accuracy: 6.6168e-05\n",
      "Epoch 15/25\n",
      "152/152 [==============================] - 1s 7ms/step - loss: 0.0196 - accuracy: 6.6168e-05 - val_loss: 0.0196 - val_accuracy: 6.6168e-05\n",
      "Epoch 16/25\n",
      "152/152 [==============================] - 1s 8ms/step - loss: 0.0195 - accuracy: 6.6168e-05 - val_loss: 0.0195 - val_accuracy: 6.6168e-05\n",
      "Epoch 17/25\n",
      "152/152 [==============================] - 1s 9ms/step - loss: 0.0194 - accuracy: 6.6168e-05 - val_loss: 0.0194 - val_accuracy: 6.6168e-05\n",
      "Epoch 18/25\n",
      "152/152 [==============================] - 1s 8ms/step - loss: 0.0194 - accuracy: 6.6168e-05 - val_loss: 0.0193 - val_accuracy: 6.6168e-05\n",
      "Epoch 19/25\n",
      "152/152 [==============================] - 1s 7ms/step - loss: 0.0193 - accuracy: 6.6168e-05 - val_loss: 0.0193 - val_accuracy: 6.6168e-05\n",
      "Epoch 20/25\n",
      "152/152 [==============================] - 1s 6ms/step - loss: 0.0192 - accuracy: 6.6168e-05 - val_loss: 0.0192 - val_accuracy: 6.6168e-05\n",
      "Epoch 21/25\n",
      "152/152 [==============================] - 1s 6ms/step - loss: 0.0192 - accuracy: 6.6168e-05 - val_loss: 0.0192 - val_accuracy: 6.6168e-05\n",
      "Epoch 22/25\n",
      "152/152 [==============================] - 1s 8ms/step - loss: 0.0191 - accuracy: 6.6168e-05 - val_loss: 0.0191 - val_accuracy: 6.6168e-05\n",
      "Epoch 23/25\n",
      "152/152 [==============================] - 1s 7ms/step - loss: 0.0191 - accuracy: 6.6168e-05 - val_loss: 0.0191 - val_accuracy: 6.6168e-05\n",
      "Epoch 24/25\n",
      "152/152 [==============================] - 1s 8ms/step - loss: 0.0191 - accuracy: 6.6168e-05 - val_loss: 0.0191 - val_accuracy: 6.6168e-05\n",
      "Epoch 25/25\n",
      "152/152 [==============================] - 1s 7ms/step - loss: 0.0190 - accuracy: 6.6168e-05 - val_loss: 0.0190 - val_accuracy: 6.6168e-05\n"
     ]
    }
   ],
   "source": [
    "model3 = Sequential()\n",
    "model3.add(Dense(layer1_units, input_dim=Data.shape[1], activation=layer1_activation))\n",
    "model3.add(Dropout(layer1_dropout_rate))\n",
    "model3.add(Dense(layer2_units, activation=layer1_activation))\n",
    "model3.add(Dropout(layer2_dropout_rate))\n",
    "model3.add(Dense(1, activation=output_activation))\n",
    "model3.compile(loss=loss, optimizer=optimizer, metrics=metrics)\n",
    "model_test = model3\n",
    "model_test.summary()\n",
    "history_test = model_test.fit(xTrain, yTrain, epochs=epochs, batch_size=batch_size, verbose=1,shuffle=True, \n",
    "                              validation_data=(xTrain,yTrain))"
   ]
  },
  {
   "cell_type": "code",
   "execution_count": 236,
   "id": "a9694688",
   "metadata": {},
   "outputs": [
    {
     "name": "stdout",
     "output_type": "stream",
     "text": [
      "Model: \"sequential_8\"\n",
      "_________________________________________________________________\n",
      " Layer (type)                Output Shape              Param #   \n",
      "=================================================================\n",
      " dense_21 (Dense)            (None, 5)                 60        \n",
      "                                                                 \n",
      " dropout_14 (Dropout)        (None, 5)                 0         \n",
      "                                                                 \n",
      " dense_22 (Dense)            (None, 5)                 30        \n",
      "                                                                 \n",
      " dropout_15 (Dropout)        (None, 5)                 0         \n",
      "                                                                 \n",
      " dense_23 (Dense)            (None, 1)                 6         \n",
      "                                                                 \n",
      "=================================================================\n",
      "Total params: 96\n",
      "Trainable params: 96\n",
      "Non-trainable params: 0\n",
      "_________________________________________________________________\n",
      "Epoch 1/25\n",
      "152/152 [==============================] - 1s 4ms/step - loss: 0.0346 - mean_squared_error: 0.0346 - val_loss: 0.0187 - val_mean_squared_error: 0.0187\n",
      "Epoch 2/25\n",
      "152/152 [==============================] - 1s 4ms/step - loss: 0.0201 - mean_squared_error: 0.0201 - val_loss: 0.0167 - val_mean_squared_error: 0.0167\n",
      "Epoch 3/25\n",
      "152/152 [==============================] - 0s 3ms/step - loss: 0.0190 - mean_squared_error: 0.0190 - val_loss: 0.0164 - val_mean_squared_error: 0.0164\n",
      "Epoch 4/25\n",
      "152/152 [==============================] - 0s 3ms/step - loss: 0.0188 - mean_squared_error: 0.0188 - val_loss: 0.0163 - val_mean_squared_error: 0.0163\n",
      "Epoch 5/25\n",
      "152/152 [==============================] - 0s 3ms/step - loss: 0.0185 - mean_squared_error: 0.0185 - val_loss: 0.0163 - val_mean_squared_error: 0.0163\n",
      "Epoch 6/25\n",
      "152/152 [==============================] - 0s 3ms/step - loss: 0.0185 - mean_squared_error: 0.0185 - val_loss: 0.0162 - val_mean_squared_error: 0.0162\n",
      "Epoch 7/25\n",
      "152/152 [==============================] - 0s 3ms/step - loss: 0.0182 - mean_squared_error: 0.0182 - val_loss: 0.0161 - val_mean_squared_error: 0.0161\n",
      "Epoch 8/25\n",
      "152/152 [==============================] - 0s 3ms/step - loss: 0.0180 - mean_squared_error: 0.0180 - val_loss: 0.0161 - val_mean_squared_error: 0.0161\n",
      "Epoch 9/25\n",
      "152/152 [==============================] - 0s 3ms/step - loss: 0.0179 - mean_squared_error: 0.0179 - val_loss: 0.0160 - val_mean_squared_error: 0.0160\n",
      "Epoch 10/25\n",
      "152/152 [==============================] - 0s 3ms/step - loss: 0.0179 - mean_squared_error: 0.0179 - val_loss: 0.0160 - val_mean_squared_error: 0.0160\n",
      "Epoch 11/25\n",
      "152/152 [==============================] - 0s 3ms/step - loss: 0.0176 - mean_squared_error: 0.0176 - val_loss: 0.0159 - val_mean_squared_error: 0.0159\n",
      "Epoch 12/25\n",
      "152/152 [==============================] - 1s 3ms/step - loss: 0.0175 - mean_squared_error: 0.0175 - val_loss: 0.0159 - val_mean_squared_error: 0.0159\n",
      "Epoch 13/25\n",
      "152/152 [==============================] - 0s 3ms/step - loss: 0.0173 - mean_squared_error: 0.0173 - val_loss: 0.0158 - val_mean_squared_error: 0.0158\n",
      "Epoch 14/25\n",
      "152/152 [==============================] - 0s 3ms/step - loss: 0.0172 - mean_squared_error: 0.0172 - val_loss: 0.0158 - val_mean_squared_error: 0.0158\n",
      "Epoch 15/25\n",
      "152/152 [==============================] - 0s 3ms/step - loss: 0.0172 - mean_squared_error: 0.0172 - val_loss: 0.0157 - val_mean_squared_error: 0.0157\n",
      "Epoch 16/25\n",
      "152/152 [==============================] - 0s 3ms/step - loss: 0.0172 - mean_squared_error: 0.0172 - val_loss: 0.0157 - val_mean_squared_error: 0.0157\n",
      "Epoch 17/25\n",
      "152/152 [==============================] - 1s 4ms/step - loss: 0.0169 - mean_squared_error: 0.0169 - val_loss: 0.0157 - val_mean_squared_error: 0.0157\n",
      "Epoch 18/25\n",
      "152/152 [==============================] - 1s 5ms/step - loss: 0.0169 - mean_squared_error: 0.0169 - val_loss: 0.0156 - val_mean_squared_error: 0.0156\n",
      "Epoch 19/25\n",
      "152/152 [==============================] - 1s 5ms/step - loss: 0.0168 - mean_squared_error: 0.0168 - val_loss: 0.0156 - val_mean_squared_error: 0.0156\n",
      "Epoch 20/25\n",
      "152/152 [==============================] - 1s 4ms/step - loss: 0.0168 - mean_squared_error: 0.0168 - val_loss: 0.0155 - val_mean_squared_error: 0.0155\n",
      "Epoch 21/25\n",
      "152/152 [==============================] - 0s 3ms/step - loss: 0.0167 - mean_squared_error: 0.0167 - val_loss: 0.0155 - val_mean_squared_error: 0.0155\n",
      "Epoch 22/25\n",
      "152/152 [==============================] - 0s 3ms/step - loss: 0.0167 - mean_squared_error: 0.0167 - val_loss: 0.0155 - val_mean_squared_error: 0.0155\n",
      "Epoch 23/25\n",
      "152/152 [==============================] - 0s 3ms/step - loss: 0.0167 - mean_squared_error: 0.0167 - val_loss: 0.0155 - val_mean_squared_error: 0.0155\n",
      "Epoch 24/25\n",
      "152/152 [==============================] - 0s 3ms/step - loss: 0.0165 - mean_squared_error: 0.0165 - val_loss: 0.0154 - val_mean_squared_error: 0.0154\n",
      "Epoch 25/25\n",
      "152/152 [==============================] - 0s 3ms/step - loss: 0.0164 - mean_squared_error: 0.0164 - val_loss: 0.0154 - val_mean_squared_error: 0.0154\n"
     ]
    }
   ],
   "source": [
    "#Season Split\n",
    "model3 = Sequential()\n",
    "model3.add(Dense(layer1_units, input_dim=Data_scaled.shape[1], activation=layer1_activation))\n",
    "model3.add(Dropout(layer1_dropout_rate))\n",
    "model3.add(Dense(layer2_units, activation=layer1_activation))\n",
    "model3.add(Dropout(layer2_dropout_rate))\n",
    "model3.add(Dense(1, activation=output_activation))\n",
    "model3.compile(loss=loss, optimizer=optimizer, metrics=metrics)\n",
    "model_test = model3\n",
    "model_test.summary()\n",
    "history_test = model_test.fit(xTrain, yTrain, epochs=epochs, batch_size=batch_size, verbose=1,shuffle=True, \n",
    "                              validation_data=(xTrain,yTrain))"
   ]
  },
  {
   "cell_type": "code",
   "execution_count": 238,
   "id": "8cabea16",
   "metadata": {},
   "outputs": [
    {
     "data": {
      "text/plain": [
       "dict_keys(['loss', 'mean_squared_error', 'val_loss', 'val_mean_squared_error'])"
      ]
     },
     "execution_count": 238,
     "metadata": {},
     "output_type": "execute_result"
    }
   ],
   "source": [
    "history_test.history.keys()"
   ]
  },
  {
   "cell_type": "code",
   "execution_count": 239,
   "id": "0a5cda0b",
   "metadata": {},
   "outputs": [
    {
     "data": {
      "image/png": "[encoded data removed]",
      "text/plain": [
       "<Figure size 432x288 with 1 Axes>"
      ]
     },
     "metadata": {
      "needs_background": "light"
     },
     "output_type": "display_data"
    }
   ],
   "source": [
    "plt.plot(history_test.history['mean_squared_error'])\n",
    "plt.plot(history_test.history['val_mean_squared_error'])\n",
    "plt.title('Model MSE')\n",
    "plt.ylabel('MSE')\n",
    "plt.xlabel('Epoch')\n",
    "plt.legend(['Train', 'Test'], loc='lower right')\n",
    "plt.show()"
   ]
  },
  {
   "cell_type": "code",
   "execution_count": 194,
   "id": "d42b5d24",
   "metadata": {},
   "outputs": [
    {
     "name": "stdout",
     "output_type": "stream",
     "text": [
      "932608.4401563283\n",
      "0.052399176334161246\n"
     ]
    }
   ],
   "source": [
    "#Decision Tree\n",
    "from sklearn.tree import DecisionTreeRegressor\n",
    "\n",
    "depths = 9 #smallest\n",
    "model4 = DecisionTreeRegressor(max_depth=depths)\n",
    "model4.fit(xTrain,yTrain)\n",
    "\n",
    "prediction = model4.predict(xTest)\n",
    "mse = mean_squared_error(yTest,prediction)\n",
    "r2 = r2_score(yTest,prediction)\n",
    "print(mse)\n",
    "print(r2)"
   ]
  },
  {
   "cell_type": "code",
   "execution_count": 261,
   "id": "e87b28c9",
   "metadata": {},
   "outputs": [],
   "source": [
    "#Multiple Linear Regression (Season Split)\n",
    "def linear_regression(x_train, y_train, x_test, y_test):\n",
    "    model1 = LinearRegression().fit(x_train,y_train)\n",
    "    beta0 = model1.intercept_\n",
    "    beta1 = model1.coef_\n",
    "    yHat1 = model1.predict(x_test)\n",
    "    corr1 = np.corrcoef(yHat1,y_test)[0,1]\n",
    "    mse = mean_squared_error(y_test,yHat1)\n",
    "    print(corr1)\n",
    "    print(f\"MSE: {mse}\")\n",
    "    plt.plot(yTest,prediction,'o',markersize=1)\n",
    "    plt.xlabel(\"Actual Values\")\n",
    "    plt.ylabel(\"Predicted Values\")\n",
    "    plt.title(\"Actual vs Predicted\")\n",
    "    plt.show()\n"
   ]
  },
  {
   "cell_type": "code",
   "execution_count": 262,
   "id": "0bfdf8d6",
   "metadata": {},
   "outputs": [
    {
     "name": "stderr",
     "output_type": "stream",
     "text": [
      "C:\\Users\\ruiji\\anaconda3\\lib\\site-packages\\numpy\\lib\\function_base.py:2634: RuntimeWarning: Degrees of freedom <= 0 for slice\n",
      "  c = cov(x, y, rowvar, dtype=dtype)\n",
      "C:\\Users\\ruiji\\anaconda3\\lib\\site-packages\\numpy\\lib\\function_base.py:2493: RuntimeWarning: divide by zero encountered in true_divide\n",
      "  c *= np.true_divide(1, fact)\n",
      "C:\\Users\\ruiji\\anaconda3\\lib\\site-packages\\numpy\\lib\\function_base.py:2493: RuntimeWarning: invalid value encountered in multiply\n",
      "  c *= np.true_divide(1, fact)\n"
     ]
    },
    {
     "name": "stdout",
     "output_type": "stream",
     "text": [
      "nan\n",
      "MSE: 0.014430490618868665\n"
     ]
    },
    {
     "data": {
      "image/png": "[encoded data removed]",
      "text/plain": [
       "<Figure size 432x288 with 1 Axes>"
      ]
     },
     "metadata": {
      "needs_background": "light"
     },
     "output_type": "display_data"
    }
   ],
   "source": [
    "linear_regression(xTrain, yTrain, xTest, yTest)"
   ]
  },
  {
   "cell_type": "code",
   "execution_count": 263,
   "id": "a43cb758",
   "metadata": {},
   "outputs": [],
   "source": [
    "from sklearn.linear_model import Lasso"
   ]
  },
  {
   "cell_type": "code",
   "execution_count": 270,
   "id": "2ff43985",
   "metadata": {},
   "outputs": [],
   "source": [
    "#Lasso\n",
    "def lasso(a, x_train, y_train, x_test, y_test):\n",
    "    model2 = Lasso(alpha=a).fit(x_train,y_train)\n",
    "    prediction = model2.predict(x_test)\n",
    "    mse = mean_squared_error(y_test,prediction)\n",
    "\n",
    "    print(f\"MSE: {mse}\")\n",
    "    plt.plot(y_test,prediction,'o',markersize=1)\n",
    "    plt.xlabel(\"Actual Values\")\n",
    "    plt.ylabel(\"Predicted Values\")\n",
    "    plt.title(\"Actual vs Predicted\")\n",
    "    plt.show()\n"
   ]
  },
  {
   "cell_type": "code",
   "execution_count": 279,
   "id": "846c0542",
   "metadata": {},
   "outputs": [
    {
     "name": "stdout",
     "output_type": "stream",
     "text": [
      "MSE: 0.014270058043894548\n"
     ]
    },
    {
     "data": {
      "image/png": "[encoded data removed]",
      "text/plain": [
       "<Figure size 432x288 with 1 Axes>"
      ]
     },
     "metadata": {
      "needs_background": "light"
     },
     "output_type": "display_data"
    }
   ],
   "source": [
    "lasso(0.004, xTrain, yTrain, xTest, yTest)#Normalized data, Season Split"
   ]
  },
  {
   "cell_type": "code",
   "execution_count": null,
   "id": "d2efe96f",
   "metadata": {},
   "outputs": [],
   "source": []
  },
  {
   "cell_type": "code",
   "execution_count": 249,
   "id": "c8c50a62",
   "metadata": {},
   "outputs": [],
   "source": [
    "from sklearn.tree import DecisionTreeRegressor"
   ]
  },
  {
   "cell_type": "code",
   "execution_count": 252,
   "id": "ee2d6608",
   "metadata": {},
   "outputs": [],
   "source": [
    "#Decision Tree\n",
    "def decision_tree(depths, x_train, y_train, x_test, y_test):\n",
    "    model4 = DecisionTreeRegressor(max_depth=depths)\n",
    "    model4.fit(x_train,y_train)\n",
    "\n",
    "    prediction = model4.predict(x_test)\n",
    "    mse = mean_squared_error(y_test,prediction)\n",
    "    r2 = r2_score(y_test,prediction)\n",
    "    print(f\"MSE: {mse}\")\n",
    "    plt.plot(yTest,prediction,'o',markersize=1)\n",
    "    plt.xlabel(\"Actual Values\")\n",
    "    plt.ylabel(\"Predicted Values\")\n",
    "    plt.title(\"Actual vs Predicted\")\n",
    "    plt.show()\n"
   ]
  },
  {
   "cell_type": "code",
   "execution_count": 253,
   "id": "9c5bdbbf",
   "metadata": {},
   "outputs": [
    {
     "name": "stdout",
     "output_type": "stream",
     "text": [
      "MSE: 0.01461102739696178\n"
     ]
    },
    {
     "data": {
      "image/png": "[encoded data removed]",
      "text/plain": [
       "<Figure size 432x288 with 1 Axes>"
      ]
     },
     "metadata": {
      "needs_background": "light"
     },
     "output_type": "display_data"
    }
   ],
   "source": [
    "decision_tree(6, xTrain, yTrain, xTest, yTest) #Normalized data, Season Split"
   ]
  },
  {
   "cell_type": "code",
   "execution_count": 257,
   "id": "60db70c5",
   "metadata": {},
   "outputs": [],
   "source": [
    "from sklearn.ensemble import RandomForestRegressor"
   ]
  },
  {
   "cell_type": "code",
   "execution_count": 255,
   "id": "ecc71d3a",
   "metadata": {},
   "outputs": [],
   "source": [
    "#Random Forest\n",
    "def random_forest(depths, x_train, y_train, x_test, y_test):\n",
    "    model_random_forest = RandomForestRegressor(n_estimators=depths).fit(x_train,y_train)\n",
    "    prediction = model_random_forest.predict(x_test)\n",
    "    mse = mean_squared_error(y_test,prediction)\n",
    "    print(f\"MSE: {mse}\")\n",
    "    plt.plot(yTest,prediction,'o',markersize=1)\n",
    "    plt.xlabel(\"Actual Values\")\n",
    "    plt.ylabel(\"Predicted Values\")\n",
    "    plt.title(\"Actual vs Predicted\")\n",
    "    plt.show()\n"
   ]
  },
  {
   "cell_type": "code",
   "execution_count": 256,
   "id": "f87f2794",
   "metadata": {},
   "outputs": [
    {
     "name": "stderr",
     "output_type": "stream",
     "text": [
      "C:\\Users\\ruiji\\AppData\\Local\\Temp/ipykernel_24128/2040074505.py:3: DataConversionWarning: A column-vector y was passed when a 1d array was expected. Please change the shape of y to (n_samples,), for example using ravel().\n",
      "  model_random_forest = RandomForestRegressor(n_estimators=depths).fit(x_train,y_train)\n"
     ]
    },
    {
     "name": "stdout",
     "output_type": "stream",
     "text": [
      "MSE: 0.015473459259909634\n"
     ]
    },
    {
     "data": {
      "image/png": "[encoded data removed]",
      "text/plain": [
       "<Figure size 432x288 with 1 Axes>"
      ]
     },
     "metadata": {
      "needs_background": "light"
     },
     "output_type": "display_data"
    }
   ],
   "source": [
    "random_forest(75, xTrain, yTrain, xTest, yTest) #Normalized data, Season Split"
   ]
  },
  {
   "cell_type": "code",
   "execution_count": 283,
   "id": "808b549a",
   "metadata": {},
   "outputs": [
    {
     "name": "stderr",
     "output_type": "stream",
     "text": [
      "C:\\Users\\ruiji\\anaconda3\\lib\\site-packages\\keras\\optimizers\\optimizer_v2\\gradient_descent.py:108: UserWarning: The `lr` argument is deprecated, use `learning_rate` instead.\n",
      "  super(SGD, self).__init__(name, **kwargs)\n"
     ]
    }
   ],
   "source": [
    "layer1_units = 5\n",
    "layer2_units = 5\n",
    "\n",
    "loss = 'mean_squared_error'\n",
    "\n",
    "metrics = ['mean_squared_error']\n",
    "epochs = 25\n",
    "batch_size = 100\n",
    "layer1_activation = 'relu'\n",
    "layer2_activation = 'relu'\n",
    "output_activation = 'sigmoid'\n",
    "layer1_dropout_rate = 0.05\n",
    "layer2_dropout_rate = 0.00\n",
    "learning_rate=0.01\n",
    "decay=1e-6\n",
    "momentum=0.5\n",
    "\n",
    "optimizer = SGD(lr=learning_rate, decay=decay, momentum=momentum)"
   ]
  },
  {
   "cell_type": "code",
   "execution_count": 284,
   "id": "f17cdbbd",
   "metadata": {},
   "outputs": [
    {
     "name": "stdout",
     "output_type": "stream",
     "text": [
      "Model: \"sequential_9\"\n",
      "_________________________________________________________________\n",
      " Layer (type)                Output Shape              Param #   \n",
      "=================================================================\n",
      " dense_24 (Dense)            (None, 5)                 60        \n",
      "                                                                 \n",
      " dropout_16 (Dropout)        (None, 5)                 0         \n",
      "                                                                 \n",
      " dense_25 (Dense)            (None, 5)                 30        \n",
      "                                                                 \n",
      " dropout_17 (Dropout)        (None, 5)                 0         \n",
      "                                                                 \n",
      " dense_26 (Dense)            (None, 1)                 6         \n",
      "                                                                 \n",
      "=================================================================\n",
      "Total params: 96\n",
      "Trainable params: 96\n",
      "Non-trainable params: 0\n",
      "_________________________________________________________________\n",
      "Epoch 1/25\n",
      "152/152 [==============================] - 1s 4ms/step - loss: 0.0582 - mean_squared_error: 0.0582 - val_loss: 0.0351 - val_mean_squared_error: 0.0351\n",
      "Epoch 2/25\n",
      "152/152 [==============================] - 1s 3ms/step - loss: 0.0288 - mean_squared_error: 0.0288 - val_loss: 0.0244 - val_mean_squared_error: 0.0244\n",
      "Epoch 3/25\n",
      "152/152 [==============================] - 1s 4ms/step - loss: 0.0232 - mean_squared_error: 0.0232 - val_loss: 0.0219 - val_mean_squared_error: 0.0219\n",
      "Epoch 4/25\n",
      "152/152 [==============================] - 0s 3ms/step - loss: 0.0217 - mean_squared_error: 0.0217 - val_loss: 0.0210 - val_mean_squared_error: 0.0210\n",
      "Epoch 5/25\n",
      "152/152 [==============================] - 0s 3ms/step - loss: 0.0210 - mean_squared_error: 0.0210 - val_loss: 0.0205 - val_mean_squared_error: 0.0205\n",
      "Epoch 6/25\n",
      "152/152 [==============================] - 0s 3ms/step - loss: 0.0205 - mean_squared_error: 0.0205 - val_loss: 0.0201 - val_mean_squared_error: 0.0201\n",
      "Epoch 7/25\n",
      "152/152 [==============================] - 0s 3ms/step - loss: 0.0203 - mean_squared_error: 0.0203 - val_loss: 0.0198 - val_mean_squared_error: 0.0198\n",
      "Epoch 8/25\n",
      "152/152 [==============================] - 0s 3ms/step - loss: 0.0200 - mean_squared_error: 0.0200 - val_loss: 0.0196 - val_mean_squared_error: 0.0196\n",
      "Epoch 9/25\n",
      "152/152 [==============================] - 0s 3ms/step - loss: 0.0197 - mean_squared_error: 0.0197 - val_loss: 0.0194 - val_mean_squared_error: 0.0194\n",
      "Epoch 10/25\n",
      "152/152 [==============================] - 0s 3ms/step - loss: 0.0195 - mean_squared_error: 0.0195 - val_loss: 0.0192 - val_mean_squared_error: 0.0192\n",
      "Epoch 11/25\n",
      "152/152 [==============================] - 1s 4ms/step - loss: 0.0193 - mean_squared_error: 0.0193 - val_loss: 0.0190 - val_mean_squared_error: 0.0190\n",
      "Epoch 12/25\n",
      "152/152 [==============================] - 0s 3ms/step - loss: 0.0191 - mean_squared_error: 0.0191 - val_loss: 0.0188 - val_mean_squared_error: 0.0188\n",
      "Epoch 13/25\n",
      "152/152 [==============================] - 1s 5ms/step - loss: 0.0189 - mean_squared_error: 0.0189 - val_loss: 0.0186 - val_mean_squared_error: 0.0186\n",
      "Epoch 14/25\n",
      "152/152 [==============================] - 1s 4ms/step - loss: 0.0188 - mean_squared_error: 0.0188 - val_loss: 0.0185 - val_mean_squared_error: 0.0185\n",
      "Epoch 15/25\n",
      "152/152 [==============================] - 0s 3ms/step - loss: 0.0187 - mean_squared_error: 0.0187 - val_loss: 0.0183 - val_mean_squared_error: 0.0183\n",
      "Epoch 16/25\n",
      "152/152 [==============================] - 0s 3ms/step - loss: 0.0186 - mean_squared_error: 0.0186 - val_loss: 0.0182 - val_mean_squared_error: 0.0182\n",
      "Epoch 17/25\n",
      "152/152 [==============================] - 0s 3ms/step - loss: 0.0184 - mean_squared_error: 0.0184 - val_loss: 0.0181 - val_mean_squared_error: 0.0181\n",
      "Epoch 18/25\n",
      "152/152 [==============================] - 0s 3ms/step - loss: 0.0183 - mean_squared_error: 0.0183 - val_loss: 0.0180 - val_mean_squared_error: 0.0180\n",
      "Epoch 19/25\n",
      "152/152 [==============================] - 0s 3ms/step - loss: 0.0182 - mean_squared_error: 0.0182 - val_loss: 0.0179 - val_mean_squared_error: 0.0179\n",
      "Epoch 20/25\n",
      "152/152 [==============================] - 1s 4ms/step - loss: 0.0181 - mean_squared_error: 0.0181 - val_loss: 0.0178 - val_mean_squared_error: 0.0178\n",
      "Epoch 21/25\n",
      "152/152 [==============================] - 1s 3ms/step - loss: 0.0180 - mean_squared_error: 0.0180 - val_loss: 0.0177 - val_mean_squared_error: 0.0177\n",
      "Epoch 22/25\n",
      "152/152 [==============================] - 1s 4ms/step - loss: 0.0179 - mean_squared_error: 0.0179 - val_loss: 0.0176 - val_mean_squared_error: 0.0176\n",
      "Epoch 23/25\n",
      "152/152 [==============================] - 1s 4ms/step - loss: 0.0177 - mean_squared_error: 0.0177 - val_loss: 0.0175 - val_mean_squared_error: 0.0175\n",
      "Epoch 24/25\n",
      "152/152 [==============================] - 0s 3ms/step - loss: 0.0177 - mean_squared_error: 0.0177 - val_loss: 0.0174 - val_mean_squared_error: 0.0174\n",
      "Epoch 25/25\n",
      "152/152 [==============================] - 0s 3ms/step - loss: 0.0176 - mean_squared_error: 0.0176 - val_loss: 0.0173 - val_mean_squared_error: 0.0173\n"
     ]
    }
   ],
   "source": [
    "model3 = Sequential()\n",
    "model3.add(Dense(layer1_units, input_dim=Data_scaled.shape[1], activation=layer1_activation))\n",
    "model3.add(Dropout(layer1_dropout_rate))\n",
    "model3.add(Dense(layer2_units, activation=layer1_activation))\n",
    "model3.add(Dropout(layer2_dropout_rate))\n",
    "model3.add(Dense(1, activation=output_activation))\n",
    "model3.compile(loss=loss, optimizer=optimizer, metrics=metrics)\n",
    "model_test = model3\n",
    "model_test.summary()\n",
    "history_test = model_test.fit(xTrain, yTrain, epochs=epochs, batch_size=batch_size, verbose=1,shuffle=True, \n",
    "                              validation_data=(xTrain,yTrain))"
   ]
  },
  {
   "cell_type": "code",
   "execution_count": 285,
   "id": "20eb4028",
   "metadata": {},
   "outputs": [
    {
     "data": {
      "text/plain": [
       "dict_keys(['loss', 'mean_squared_error', 'val_loss', 'val_mean_squared_error'])"
      ]
     },
     "execution_count": 285,
     "metadata": {},
     "output_type": "execute_result"
    }
   ],
   "source": [
    "history_test.history.keys()"
   ]
  },
  {
   "cell_type": "code",
   "execution_count": 286,
   "id": "28baea19",
   "metadata": {},
   "outputs": [
    {
     "data": {
      "image/png": "[encoded data removed]",
      "text/plain": [
       "<Figure size 432x288 with 1 Axes>"
      ]
     },
     "metadata": {
      "needs_background": "light"
     },
     "output_type": "display_data"
    }
   ],
   "source": [
    "plt.plot(history_test.history['mean_squared_error'])\n",
    "plt.plot(history_test.history['val_mean_squared_error'])\n",
    "plt.title('Model MSE')\n",
    "plt.ylabel('MSE')\n",
    "plt.xlabel('Epoch')\n",
    "plt.legend(['Train', 'Test'], loc='lower right')\n",
    "plt.show()"
   ]
  },
  {
   "cell_type": "code",
   "execution_count": null,
   "id": "a3920d46",
   "metadata": {},
   "outputs": [],
   "source": []
  }
 ],
 "metadata": {
  "kernelspec": {
   "display_name": "Python 3 (ipykernel)",
   "language": "python",
   "name": "python3"
  },
  "language_info": {
   "codemirror_mode": {
    "name": "ipython",
    "version": 3
   },
   "file_extension": ".py",
   "mimetype": "text/x-python",
   "name": "python",
   "nbconvert_exporter": "python",
   "pygments_lexer": "ipython3",
   "version": "3.9.7"
  }
 },
 "nbformat": 4,
 "nbformat_minor": 5
}
